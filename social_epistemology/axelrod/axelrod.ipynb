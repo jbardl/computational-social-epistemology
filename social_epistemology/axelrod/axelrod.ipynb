{
 "cells": [
  {
   "cell_type": "code",
   "execution_count": 314,
   "metadata": {},
   "outputs": [],
   "source": [
    "from tqdm import tqdm\n",
    "from itertools import product\n",
    "\n",
    "import numpy as np\n",
    "import pandas as pd"
   ]
  },
  {
   "cell_type": "markdown",
   "metadata": {},
   "source": [
    "Cómo puedo hacer para encontrar la vecindad de un punto en una matriz?\n",
    "\n",
    "La manera obvia sería iterar.\n",
    "\n",
    "El problema con iterar es que hay que definir muchos casos límite: cuando el punto se encuentra en alguna esquina o en algún lado.\n",
    "\n",
    "Tiene que haber alguna funcionalidad tipo convolución que me permita resolver esto."
   ]
  },
  {
   "cell_type": "code",
   "execution_count": 267,
   "metadata": {},
   "outputs": [],
   "source": [
    "def moore_neighborhood_idxs(lattice, point, r=1):\n",
    "\n",
    "    x, y = point\n",
    "    x_max, y_max = lattice.shape\n",
    "\n",
    "\n",
    "    x_range = np.arange(max(0, x-r), min(x_max, x+r+1))\n",
    "    y_range = np.arange(max(0, y-r), min(y_max, y+r+1))\n",
    "\n",
    "    neighbor_idxs = [neighbor_point for neighbor_point in product(x_range, y_range) \n",
    "                    if neighbor_point != point]\n",
    "\n",
    "    return neighbor_idxs\n",
    "\n",
    "\n",
    "def moore_neighborhood(lattice, point, r=1):\n",
    "    \n",
    "    neighbor_idxs = moore_neighborhood_idxs(lattice, point, r)\n",
    "    return [lattice[idx] for idx in neighbor_idxs]\n",
    "\n",
    "\n",
    "def get_data(lattice, point):\n",
    "    x, y = point\n",
    "    return lattice[:, x, y]"
   ]
  },
  {
   "cell_type": "code",
   "execution_count": 346,
   "metadata": {},
   "outputs": [],
   "source": [
    "F = 5\n",
    "q = 10\n",
    "rounds = 1000000\n",
    "lattice = np.random.randint(low=0, high=q-1, size=(F, 10, 10))"
   ]
  },
  {
   "cell_type": "code",
   "execution_count": 347,
   "metadata": {},
   "outputs": [
    {
     "name": "stderr",
     "output_type": "stream",
     "text": [
      "  0%|          | 0/1000000 [00:00<?, ?it/s]"
     ]
    },
    {
     "name": "stderr",
     "output_type": "stream",
     "text": [
      "100%|██████████| 1000000/1000000 [02:50<00:00, 5851.46it/s]\n"
     ]
    }
   ],
   "source": [
    "logs = []\n",
    "\n",
    "for sim_round in tqdm(range(rounds)):\n",
    "\n",
    "    log = [sim_round, 0]\n",
    "    point = np.random.randint(low=0, high=q-1, size=2)\n",
    "\n",
    "    neighbors = moore_neighborhood_idxs(lattice[0], tuple(point))\n",
    "    random_neighbor = neighbors[np.random.choice(len(neighbors))]\n",
    "\n",
    "    data_point = get_data(lattice, tuple(point))\n",
    "    data_neighbor = get_data(lattice, random_neighbor)\n",
    "\n",
    "    coincidences = data_point == data_neighbor\n",
    "    interaction_proba = sum(coincidences) / F\n",
    "\n",
    "    if interaction_proba < 1.0:\n",
    "        do_interact = np.random.choice(a=[True, False], \n",
    "                                    p=[interaction_proba, 1-interaction_proba])\n",
    "\n",
    "        if do_interact:\n",
    "            random_trait_idx = np.random.choice([idx for idx, coincidence \n",
    "                                                in enumerate(coincidences) \n",
    "                                                if not coincidence])\n",
    "            lattice[random_trait_idx, point[0], point[1]] = data_neighbor[random_trait_idx]\n",
    "            log[1] = 1\n",
    "\n",
    "\n",
    "    logs.append(log)\n"
   ]
  },
  {
   "cell_type": "code",
   "execution_count": 348,
   "metadata": {},
   "outputs": [
    {
     "data": {
      "text/plain": [
       "<Axes: >"
      ]
     },
     "execution_count": 348,
     "metadata": {},
     "output_type": "execute_result"
    },
    {
     "data": {
      "image/png": "[encoded data removed]",
      "text/plain": [
       "<Figure size 640x480 with 1 Axes>"
      ]
     },
     "metadata": {},
     "output_type": "display_data"
    }
   ],
   "source": [
    "df_logs = pd.DataFrame(logs, columns=['round', 'interaction'])\n",
    "df_logs.interaction.cumsum().plot()"
   ]
  },
  {
   "cell_type": "code",
   "execution_count": 357,
   "metadata": {},
   "outputs": [
    {
     "data": {
      "text/plain": [
       "[(1, 1, 1), (1, 1, 1)]"
      ]
     },
     "execution_count": 357,
     "metadata": {},
     "output_type": "execute_result"
    }
   ],
   "source": [
    "list(zip([1,1], [1,1], [1,1]))"
   ]
  },
  {
   "cell_type": "code",
   "execution_count": 361,
   "metadata": {},
   "outputs": [
    {
     "data": {
      "text/plain": [
       "5"
      ]
     },
     "execution_count": 361,
     "metadata": {},
     "output_type": "execute_result"
    }
   ],
   "source": [
    "len(list(zip([lattice[idx, :, :] for idx in range(lattice.shape[0])])))"
   ]
  },
  {
   "cell_type": "code",
   "execution_count": 420,
   "metadata": {},
   "outputs": [],
   "source": [
    "res = []\n",
    "\n",
    "for i in range(lattice.shape[1]):\n",
    "    for j in range(lattice.shape[2]):\n",
    "        res.append(lattice[:, i, j])\n",
    "\n",
    "res = np.array(res)"
   ]
  },
  {
   "cell_type": "code",
   "execution_count": 440,
   "metadata": {},
   "outputs": [],
   "source": [
    "from sklearn.decomposition import PCA\n",
    "from sklearn.preprocessing import StandardScaler"
   ]
  },
  {
   "cell_type": "code",
   "execution_count": 441,
   "metadata": {},
   "outputs": [],
   "source": [
    "scaler = StandardScaler()\n",
    "pca = PCA(n_components=2, random_state=42)"
   ]
  },
  {
   "cell_type": "code",
   "execution_count": 442,
   "metadata": {},
   "outputs": [],
   "source": [
    "X = scaler.fit_transform(res)\n",
    "X = pca.fit_transform(X)"
   ]
  },
  {
   "cell_type": "code",
   "execution_count": 426,
   "metadata": {},
   "outputs": [],
   "source": [
    "import plotly.graph_objects as go"
   ]
  },
  {
   "cell_type": "code",
   "execution_count": 443,
   "metadata": {},
   "outputs": [
    {
     "data": {
      "application/vnd.plotly.v1+json": {
       "config": {
        "plotlyServerURL": "https://plot.ly"
       },
       "data": [
        {
         "hovertext": [
          "8-0-8-2-6",
          "8-5-8-2-6",
          "8-5-8-2-6",
          "8-5-8-2-6",
          "5-0-8-2-6",
          "8-0-8-2-6",
          "8-0-8-3-6",
          "1-7-8-3-4",
          "8-3-8-1-6",
          "1-3-1-8-6",
          "8-0-8-2-6",
          "8-0-8-2-6",
          "8-5-8-2-6",
          "5-8-8-2-6",
          "8-8-8-2-6",
          "8-0-8-2-6",
          "8-0-8-3-6",
          "8-7-8-3-4",
          "8-3-8-1-6",
          "5-0-8-6-2",
          "8-0-8-2-6",
          "8-0-8-2-6",
          "8-0-8-3-6",
          "8-8-8-2-6",
          "8-0-8-2-6",
          "8-0-8-3-6",
          "8-3-8-2-4",
          "5-0-8-1-6",
          "5-3-8-1-6",
          "8-1-8-1-6",
          "8-0-8-2-6",
          "8-0-8-2-6",
          "8-0-8-3-6",
          "8-0-8-3-6",
          "8-0-8-3-6",
          "8-0-8-3-6",
          "8-0-8-3-6",
          "5-3-8-3-6",
          "5-0-8-1-6",
          "8-3-8-1-4",
          "8-0-8-3-6",
          "8-0-8-3-6",
          "8-0-8-2-5",
          "8-8-8-3-6",
          "8-0-8-3-6",
          "8-8-8-3-6",
          "8-0-8-3-6",
          "0-0-8-3-6",
          "6-3-8-1-6",
          "0-5-8-1-0",
          "8-0-8-2-6",
          "5-0-8-2-5",
          "8-3-8-3-6",
          "8-8-8-3-6",
          "8-8-8-3-6",
          "8-3-8-3-6",
          "5-5-8-3-6",
          "8-5-8-3-8",
          "0-7-8-1-6",
          "6-8-7-8-3",
          "5-0-8-3-5",
          "2-0-8-2-5",
          "8-3-8-3-6",
          "8-3-8-3-6",
          "8-8-8-3-6",
          "6-5-8-3-5",
          "8-8-8-3-5",
          "6-7-8-2-6",
          "5-7-8-2-6",
          "6-7-8-3-3",
          "2-0-8-2-6",
          "2-0-8-3-6",
          "8-3-8-3-6",
          "8-3-8-3-6",
          "8-2-0-3-6",
          "8-5-8-3-5",
          "8-5-8-3-5",
          "8-3-8-3-5",
          "1-5-6-2-5",
          "5-0-8-2-8",
          "1-0-1-7-3",
          "2-0-8-3-6",
          "2-0-1-2-6",
          "8-2-0-4-5",
          "8-2-0-1-5",
          "5-3-8-3-5",
          "8-3-8-3-5",
          "1-5-6-2-4",
          "8-3-3-8-0",
          "8-8-7-2-5",
          "2-5-3-3-4",
          "1-0-1-7-3",
          "2-0-8-2-6",
          "8-2-0-4-5",
          "3-2-6-4-0",
          "6-1-2-8-1",
          "1-2-7-1-4",
          "4-8-8-1-6",
          "1-3-7-5-0",
          "8-3-3-8-8"
         ],
         "mode": "markers",
         "type": "scatter",
         "x": [
          -0.9743997974145726,
          -1.0202045278710017,
          -1.0202045278710015,
          -1.0202045278710008,
          -0.5528039641982214,
          -0.9743997974145724,
          -0.6294130366251571,
          0.9875474005757071,
          -1.3468693964778446,
          3.721592908414744,
          -0.9743997974145724,
          -0.9743997974145724,
          -1.0202045278710015,
          -0.6260915329285077,
          -1.0476873661448587,
          -0.9743997974145724,
          -0.6294130366251571,
          0.003823789737553963,
          -1.3468693964778446,
          2.2218699769628634,
          -0.9743997974145724,
          -0.9743997974145724,
          -0.6294130366251571,
          -1.0476873661448587,
          -0.9743997974145724,
          -0.6294130366251571,
          -0.3045191866867174,
          -0.897790724987636,
          -0.9252735632614935,
          -1.3285475042952732,
          -0.9743997974145724,
          -0.9743997974145724,
          -0.6294130366251571,
          -0.6294130366251571,
          -0.6294130366251571,
          -0.6294130366251571,
          -0.6294130366251571,
          -0.23530004168266344,
          -0.897790724987636,
          -0.6495059474761324,
          -0.6294130366251571,
          -0.6294130366251571,
          -0.6257180729137162,
          -0.7027006053554439,
          -0.6294130366251571,
          -0.7027006053554439,
          -0.6294130366251571,
          0.49484251861844625,
          -1.065805507666944,
          1.851154613588324,
          -0.9743997974145724,
          -0.2041222396973647,
          -0.6568958748990147,
          -0.7027006053554439,
          -0.7027006053554439,
          -0.6568958748990147,
          -0.2536219338652353,
          -1.3725812160832986,
          -0.25925762559938487,
          2.587889599266319,
          0.14086452109205025,
          0.21747359351898618,
          -0.6568958748990147,
          -0.6568958748990147,
          -0.7027006053554439,
          -0.04547215376982944,
          -0.35401888085458777,
          -0.7574625312426724,
          -0.6169305868372218,
          0.6335694030493111,
          -0.13120813098187,
          0.21377862980754486,
          -0.6568958748990147,
          -0.6568958748990147,
          1.2606437780820192,
          -0.32653604258073027,
          -0.32653604258073027,
          -0.3082141503981585,
          0.789295484190445,
          -1.250167413199933,
          4.450134159401754,
          0.21377862980754486,
          1.53862323754666,
          1.9543122633722902,
          0.9193519810040454,
          0.1133816828181927,
          -0.3082141503981585,
          1.1379772086913011,
          4.35286496785929,
          -0.46045830328278403,
          2.058074040158921,
          4.450134159401754,
          -0.13120813098187,
          1.9543122633722902,
          2.9690965777365115,
          4.542116362713125,
          0.5819259478145252,
          -0.8305463493124721,
          3.3474389428843243,
          1.563411171852441
         ],
         "y": [
          -0.9324962649046908,
          0.4860049009602529,
          0.4860049009602527,
          0.4860049009602528,
          -0.5627496704199201,
          -0.9324962649046908,
          -1.051450050168558,
          2.21929727181984,
          0.03755821987814275,
          -0.8905333586780116,
          -0.9324962649046908,
          -0.9324962649046908,
          0.486004900960253,
          1.7068521949639903,
          1.3371056004792194,
          -0.9324962649046908,
          -1.051450050168558,
          1.3565552180220413,
          0.03755821987814275,
          -0.19435753951603277,
          -0.9324962649046908,
          -0.9324962649046908,
          -1.051450050168558,
          1.3371056004792194,
          -0.9324962649046908,
          -1.051450050168558,
          0.34070807059395347,
          -0.44379588515605256,
          0.4073048143629136,
          -0.5298422464678347,
          -0.9324962649046908,
          -0.9324962649046908,
          -1.051450050168558,
          -1.051450050168558,
          -1.051450050168558,
          -1.051450050168558,
          -1.051450050168558,
          0.16939724383517918,
          -0.44379588515605256,
          0.4596618558578207,
          -1.051450050168558,
          -1.051450050168558,
          -0.721444446914852,
          1.218151815215352,
          -1.051450050168558,
          1.218151815215352,
          -1.051450050168558,
          -0.0654591315425022,
          0.2840559495346566,
          2.85726051278921,
          -0.9324962649046908,
          -0.35169785243008084,
          -0.2003493506495917,
          1.218151815215352,
          1.218151815215352,
          -0.2003493506495917,
          0.7367977101811567,
          -0.05505252028329217,
          2.1583500711961534,
          1.366156481735349,
          -0.4706516376939481,
          0.018048742054689863,
          -0.2003493506495917,
          -0.2003493506495917,
          1.218151815215352,
          0.8246006633427387,
          1.4292036332051912,
          1.2999030969627445,
          1.4231519617910013,
          1.8141047656683942,
          -0.19300307593514915,
          -0.3119568611990164,
          -0.2003493506495917,
          -0.2003493506495917,
          -1.57908631011616,
          0.5781029336862248,
          0.5781029336862248,
          0.010702467340247268,
          1.2860395911744957,
          -0.9848533063995978,
          -0.9895248189635936,
          -0.3119568611990164,
          -1.1511602114420314,
          -1.4869882773901881,
          -1.1301269215985867,
          0.38044906182501814,
          0.010702467340247268,
          1.4970914091643348,
          -0.21320532296338143,
          1.4112778276823608,
          0.8442499867121179,
          -0.9895248189635936,
          -0.19300307593514915,
          -1.4869882773901881,
          1.0057926814204756,
          -0.8820394684293817,
          0.9018240856959332,
          1.9490548450561143,
          1.5539164497728088,
          -1.9016198668820932
         ]
        }
       ],
       "layout": {
        "template": {
         "data": {
          "bar": [
           {
            "error_x": {
             "color": "#2a3f5f"
            },
            "error_y": {
             "color": "#2a3f5f"
            },
            "marker": {
             "line": {
              "color": "#E5ECF6",
              "width": 0.5
             },
             "pattern": {
              "fillmode": "overlay",
              "size": 10,
              "solidity": 0.2
             }
            },
            "type": "bar"
           }
          ],
          "barpolar": [
           {
            "marker": {
             "line": {
              "color": "#E5ECF6",
              "width": 0.5
             },
             "pattern": {
              "fillmode": "overlay",
              "size": 10,
              "solidity": 0.2
             }
            },
            "type": "barpolar"
           }
          ],
          "carpet": [
           {
            "aaxis": {
             "endlinecolor": "#2a3f5f",
             "gridcolor": "white",
             "linecolor": "white",
             "minorgridcolor": "white",
             "startlinecolor": "#2a3f5f"
            },
            "baxis": {
             "endlinecolor": "#2a3f5f",
             "gridcolor": "white",
             "linecolor": "white",
             "minorgridcolor": "white",
             "startlinecolor": "#2a3f5f"
            },
            "type": "carpet"
           }
          ],
          "choropleth": [
           {
            "colorbar": {
             "outlinewidth": 0,
             "ticks": ""
            },
            "type": "choropleth"
           }
          ],
          "contour": [
           {
            "colorbar": {
             "outlinewidth": 0,
             "ticks": ""
            },
            "colorscale": [
             [
              0,
              "#0d0887"
             ],
             [
              0.1111111111111111,
              "#46039f"
             ],
             [
              0.2222222222222222,
              "#7201a8"
             ],
             [
              0.3333333333333333,
              "#9c179e"
             ],
             [
              0.4444444444444444,
              "#bd3786"
             ],
             [
              0.5555555555555556,
              "#d8576b"
             ],
             [
              0.6666666666666666,
              "#ed7953"
             ],
             [
              0.7777777777777778,
              "#fb9f3a"
             ],
             [
              0.8888888888888888,
              "#fdca26"
             ],
             [
              1,
              "#f0f921"
             ]
            ],
            "type": "contour"
           }
          ],
          "contourcarpet": [
           {
            "colorbar": {
             "outlinewidth": 0,
             "ticks": ""
            },
            "type": "contourcarpet"
           }
          ],
          "heatmap": [
           {
            "colorbar": {
             "outlinewidth": 0,
             "ticks": ""
            },
            "colorscale": [
             [
              0,
              "#0d0887"
             ],
             [
              0.1111111111111111,
              "#46039f"
             ],
             [
              0.2222222222222222,
              "#7201a8"
             ],
             [
              0.3333333333333333,
              "#9c179e"
             ],
             [
              0.4444444444444444,
              "#bd3786"
             ],
             [
              0.5555555555555556,
              "#d8576b"
             ],
             [
              0.6666666666666666,
              "#ed7953"
             ],
             [
              0.7777777777777778,
              "#fb9f3a"
             ],
             [
              0.8888888888888888,
              "#fdca26"
             ],
             [
              1,
              "#f0f921"
             ]
            ],
            "type": "heatmap"
           }
          ],
          "heatmapgl": [
           {
            "colorbar": {
             "outlinewidth": 0,
             "ticks": ""
            },
            "colorscale": [
             [
              0,
              "#0d0887"
             ],
             [
              0.1111111111111111,
              "#46039f"
             ],
             [
              0.2222222222222222,
              "#7201a8"
             ],
             [
              0.3333333333333333,
              "#9c179e"
             ],
             [
              0.4444444444444444,
              "#bd3786"
             ],
             [
              0.5555555555555556,
              "#d8576b"
             ],
             [
              0.6666666666666666,
              "#ed7953"
             ],
             [
              0.7777777777777778,
              "#fb9f3a"
             ],
             [
              0.8888888888888888,
              "#fdca26"
             ],
             [
              1,
              "#f0f921"
             ]
            ],
            "type": "heatmapgl"
           }
          ],
          "histogram": [
           {
            "marker": {
             "pattern": {
              "fillmode": "overlay",
              "size": 10,
              "solidity": 0.2
             }
            },
            "type": "histogram"
           }
          ],
          "histogram2d": [
           {
            "colorbar": {
             "outlinewidth": 0,
             "ticks": ""
            },
            "colorscale": [
             [
              0,
              "#0d0887"
             ],
             [
              0.1111111111111111,
              "#46039f"
             ],
             [
              0.2222222222222222,
              "#7201a8"
             ],
             [
              0.3333333333333333,
              "#9c179e"
             ],
             [
              0.4444444444444444,
              "#bd3786"
             ],
             [
              0.5555555555555556,
              "#d8576b"
             ],
             [
              0.6666666666666666,
              "#ed7953"
             ],
             [
              0.7777777777777778,
              "#fb9f3a"
             ],
             [
              0.8888888888888888,
              "#fdca26"
             ],
             [
              1,
              "#f0f921"
             ]
            ],
            "type": "histogram2d"
           }
          ],
          "histogram2dcontour": [
           {
            "colorbar": {
             "outlinewidth": 0,
             "ticks": ""
            },
            "colorscale": [
             [
              0,
              "#0d0887"
             ],
             [
              0.1111111111111111,
              "#46039f"
             ],
             [
              0.2222222222222222,
              "#7201a8"
             ],
             [
              0.3333333333333333,
              "#9c179e"
             ],
             [
              0.4444444444444444,
              "#bd3786"
             ],
             [
              0.5555555555555556,
              "#d8576b"
             ],
             [
              0.6666666666666666,
              "#ed7953"
             ],
             [
              0.7777777777777778,
              "#fb9f3a"
             ],
             [
              0.8888888888888888,
              "#fdca26"
             ],
             [
              1,
              "#f0f921"
             ]
            ],
            "type": "histogram2dcontour"
           }
          ],
          "mesh3d": [
           {
            "colorbar": {
             "outlinewidth": 0,
             "ticks": ""
            },
            "type": "mesh3d"
           }
          ],
          "parcoords": [
           {
            "line": {
             "colorbar": {
              "outlinewidth": 0,
              "ticks": ""
             }
            },
            "type": "parcoords"
           }
          ],
          "pie": [
           {
            "automargin": true,
            "type": "pie"
           }
          ],
          "scatter": [
           {
            "fillpattern": {
             "fillmode": "overlay",
             "size": 10,
             "solidity": 0.2
            },
            "type": "scatter"
           }
          ],
          "scatter3d": [
           {
            "line": {
             "colorbar": {
              "outlinewidth": 0,
              "ticks": ""
             }
            },
            "marker": {
             "colorbar": {
              "outlinewidth": 0,
              "ticks": ""
             }
            },
            "type": "scatter3d"
           }
          ],
          "scattercarpet": [
           {
            "marker": {
             "colorbar": {
              "outlinewidth": 0,
              "ticks": ""
             }
            },
            "type": "scattercarpet"
           }
          ],
          "scattergeo": [
           {
            "marker": {
             "colorbar": {
              "outlinewidth": 0,
              "ticks": ""
             }
            },
            "type": "scattergeo"
           }
          ],
          "scattergl": [
           {
            "marker": {
             "colorbar": {
              "outlinewidth": 0,
              "ticks": ""
             }
            },
            "type": "scattergl"
           }
          ],
          "scattermapbox": [
           {
            "marker": {
             "colorbar": {
              "outlinewidth": 0,
              "ticks": ""
             }
            },
            "type": "scattermapbox"
           }
          ],
          "scatterpolar": [
           {
            "marker": {
             "colorbar": {
              "outlinewidth": 0,
              "ticks": ""
             }
            },
            "type": "scatterpolar"
           }
          ],
          "scatterpolargl": [
           {
            "marker": {
             "colorbar": {
              "outlinewidth": 0,
              "ticks": ""
             }
            },
            "type": "scatterpolargl"
           }
          ],
          "scatterternary": [
           {
            "marker": {
             "colorbar": {
              "outlinewidth": 0,
              "ticks": ""
             }
            },
            "type": "scatterternary"
           }
          ],
          "surface": [
           {
            "colorbar": {
             "outlinewidth": 0,
             "ticks": ""
            },
            "colorscale": [
             [
              0,
              "#0d0887"
             ],
             [
              0.1111111111111111,
              "#46039f"
             ],
             [
              0.2222222222222222,
              "#7201a8"
             ],
             [
              0.3333333333333333,
              "#9c179e"
             ],
             [
              0.4444444444444444,
              "#bd3786"
             ],
             [
              0.5555555555555556,
              "#d8576b"
             ],
             [
              0.6666666666666666,
              "#ed7953"
             ],
             [
              0.7777777777777778,
              "#fb9f3a"
             ],
             [
              0.8888888888888888,
              "#fdca26"
             ],
             [
              1,
              "#f0f921"
             ]
            ],
            "type": "surface"
           }
          ],
          "table": [
           {
            "cells": {
             "fill": {
              "color": "#EBF0F8"
             },
             "line": {
              "color": "white"
             }
            },
            "header": {
             "fill": {
              "color": "#C8D4E3"
             },
             "line": {
              "color": "white"
             }
            },
            "type": "table"
           }
          ]
         },
         "layout": {
          "annotationdefaults": {
           "arrowcolor": "#2a3f5f",
           "arrowhead": 0,
           "arrowwidth": 1
          },
          "autotypenumbers": "strict",
          "coloraxis": {
           "colorbar": {
            "outlinewidth": 0,
            "ticks": ""
           }
          },
          "colorscale": {
           "diverging": [
            [
             0,
             "#8e0152"
            ],
            [
             0.1,
             "#c51b7d"
            ],
            [
             0.2,
             "#de77ae"
            ],
            [
             0.3,
             "#f1b6da"
            ],
            [
             0.4,
             "#fde0ef"
            ],
            [
             0.5,
             "#f7f7f7"
            ],
            [
             0.6,
             "#e6f5d0"
            ],
            [
             0.7,
             "#b8e186"
            ],
            [
             0.8,
             "#7fbc41"
            ],
            [
             0.9,
             "#4d9221"
            ],
            [
             1,
             "#276419"
            ]
           ],
           "sequential": [
            [
             0,
             "#0d0887"
            ],
            [
             0.1111111111111111,
             "#46039f"
            ],
            [
             0.2222222222222222,
             "#7201a8"
            ],
            [
             0.3333333333333333,
             "#9c179e"
            ],
            [
             0.4444444444444444,
             "#bd3786"
            ],
            [
             0.5555555555555556,
             "#d8576b"
            ],
            [
             0.6666666666666666,
             "#ed7953"
            ],
            [
             0.7777777777777778,
             "#fb9f3a"
            ],
            [
             0.8888888888888888,
             "#fdca26"
            ],
            [
             1,
             "#f0f921"
            ]
           ],
           "sequentialminus": [
            [
             0,
             "#0d0887"
            ],
            [
             0.1111111111111111,
             "#46039f"
            ],
            [
             0.2222222222222222,
             "#7201a8"
            ],
            [
             0.3333333333333333,
             "#9c179e"
            ],
            [
             0.4444444444444444,
             "#bd3786"
            ],
            [
             0.5555555555555556,
             "#d8576b"
            ],
            [
             0.6666666666666666,
             "#ed7953"
            ],
            [
             0.7777777777777778,
             "#fb9f3a"
            ],
            [
             0.8888888888888888,
             "#fdca26"
            ],
            [
             1,
             "#f0f921"
            ]
           ]
          },
          "colorway": [
           "#636efa",
           "#EF553B",
           "#00cc96",
           "#ab63fa",
           "#FFA15A",
           "#19d3f3",
           "#FF6692",
           "#B6E880",
           "#FF97FF",
           "#FECB52"
          ],
          "font": {
           "color": "#2a3f5f"
          },
          "geo": {
           "bgcolor": "white",
           "lakecolor": "white",
           "landcolor": "#E5ECF6",
           "showlakes": true,
           "showland": true,
           "subunitcolor": "white"
          },
          "hoverlabel": {
           "align": "left"
          },
          "hovermode": "closest",
          "mapbox": {
           "style": "light"
          },
          "paper_bgcolor": "white",
          "plot_bgcolor": "#E5ECF6",
          "polar": {
           "angularaxis": {
            "gridcolor": "white",
            "linecolor": "white",
            "ticks": ""
           },
           "bgcolor": "#E5ECF6",
           "radialaxis": {
            "gridcolor": "white",
            "linecolor": "white",
            "ticks": ""
           }
          },
          "scene": {
           "xaxis": {
            "backgroundcolor": "#E5ECF6",
            "gridcolor": "white",
            "gridwidth": 2,
            "linecolor": "white",
            "showbackground": true,
            "ticks": "",
            "zerolinecolor": "white"
           },
           "yaxis": {
            "backgroundcolor": "#E5ECF6",
            "gridcolor": "white",
            "gridwidth": 2,
            "linecolor": "white",
            "showbackground": true,
            "ticks": "",
            "zerolinecolor": "white"
           },
           "zaxis": {
            "backgroundcolor": "#E5ECF6",
            "gridcolor": "white",
            "gridwidth": 2,
            "linecolor": "white",
            "showbackground": true,
            "ticks": "",
            "zerolinecolor": "white"
           }
          },
          "shapedefaults": {
           "line": {
            "color": "#2a3f5f"
           }
          },
          "ternary": {
           "aaxis": {
            "gridcolor": "white",
            "linecolor": "white",
            "ticks": ""
           },
           "baxis": {
            "gridcolor": "white",
            "linecolor": "white",
            "ticks": ""
           },
           "bgcolor": "#E5ECF6",
           "caxis": {
            "gridcolor": "white",
            "linecolor": "white",
            "ticks": ""
           }
          },
          "title": {
           "x": 0.05
          },
          "xaxis": {
           "automargin": true,
           "gridcolor": "white",
           "linecolor": "white",
           "ticks": "",
           "title": {
            "standoff": 15
           },
           "zerolinecolor": "white",
           "zerolinewidth": 2
          },
          "yaxis": {
           "automargin": true,
           "gridcolor": "white",
           "linecolor": "white",
           "ticks": "",
           "title": {
            "standoff": 15
           },
           "zerolinecolor": "white",
           "zerolinewidth": 2
          }
         }
        }
       }
      },
      "text/html": [
       "<div>                            <div id=\"e495560c-1147-4f3a-b847-5f0755a4dca6\" class=\"plotly-graph-div\" style=\"height:525px; width:100%;\"></div>            <script type=\"text/javascript\">                require([\"plotly\"], function(Plotly) {                    window.PLOTLYENV=window.PLOTLYENV || {};                                    if (document.getElementById(\"e495560c-1147-4f3a-b847-5f0755a4dca6\")) {                    Plotly.newPlot(                        \"e495560c-1147-4f3a-b847-5f0755a4dca6\",                        [{\"hovertext\":[\"8-0-8-2-6\",\"8-5-8-2-6\",\"8-5-8-2-6\",\"8-5-8-2-6\",\"5-0-8-2-6\",\"8-0-8-2-6\",\"8-0-8-3-6\",\"1-7-8-3-4\",\"8-3-8-1-6\",\"1-3-1-8-6\",\"8-0-8-2-6\",\"8-0-8-2-6\",\"8-5-8-2-6\",\"5-8-8-2-6\",\"8-8-8-2-6\",\"8-0-8-2-6\",\"8-0-8-3-6\",\"8-7-8-3-4\",\"8-3-8-1-6\",\"5-0-8-6-2\",\"8-0-8-2-6\",\"8-0-8-2-6\",\"8-0-8-3-6\",\"8-8-8-2-6\",\"8-0-8-2-6\",\"8-0-8-3-6\",\"8-3-8-2-4\",\"5-0-8-1-6\",\"5-3-8-1-6\",\"8-1-8-1-6\",\"8-0-8-2-6\",\"8-0-8-2-6\",\"8-0-8-3-6\",\"8-0-8-3-6\",\"8-0-8-3-6\",\"8-0-8-3-6\",\"8-0-8-3-6\",\"5-3-8-3-6\",\"5-0-8-1-6\",\"8-3-8-1-4\",\"8-0-8-3-6\",\"8-0-8-3-6\",\"8-0-8-2-5\",\"8-8-8-3-6\",\"8-0-8-3-6\",\"8-8-8-3-6\",\"8-0-8-3-6\",\"0-0-8-3-6\",\"6-3-8-1-6\",\"0-5-8-1-0\",\"8-0-8-2-6\",\"5-0-8-2-5\",\"8-3-8-3-6\",\"8-8-8-3-6\",\"8-8-8-3-6\",\"8-3-8-3-6\",\"5-5-8-3-6\",\"8-5-8-3-8\",\"0-7-8-1-6\",\"6-8-7-8-3\",\"5-0-8-3-5\",\"2-0-8-2-5\",\"8-3-8-3-6\",\"8-3-8-3-6\",\"8-8-8-3-6\",\"6-5-8-3-5\",\"8-8-8-3-5\",\"6-7-8-2-6\",\"5-7-8-2-6\",\"6-7-8-3-3\",\"2-0-8-2-6\",\"2-0-8-3-6\",\"8-3-8-3-6\",\"8-3-8-3-6\",\"8-2-0-3-6\",\"8-5-8-3-5\",\"8-5-8-3-5\",\"8-3-8-3-5\",\"1-5-6-2-5\",\"5-0-8-2-8\",\"1-0-1-7-3\",\"2-0-8-3-6\",\"2-0-1-2-6\",\"8-2-0-4-5\",\"8-2-0-1-5\",\"5-3-8-3-5\",\"8-3-8-3-5\",\"1-5-6-2-4\",\"8-3-3-8-0\",\"8-8-7-2-5\",\"2-5-3-3-4\",\"1-0-1-7-3\",\"2-0-8-2-6\",\"8-2-0-4-5\",\"3-2-6-4-0\",\"6-1-2-8-1\",\"1-2-7-1-4\",\"4-8-8-1-6\",\"1-3-7-5-0\",\"8-3-3-8-8\"],\"mode\":\"markers\",\"x\":[-0.9743997974145726,-1.0202045278710017,-1.0202045278710015,-1.0202045278710008,-0.5528039641982214,-0.9743997974145724,-0.6294130366251571,0.9875474005757071,-1.3468693964778446,3.721592908414744,-0.9743997974145724,-0.9743997974145724,-1.0202045278710015,-0.6260915329285077,-1.0476873661448587,-0.9743997974145724,-0.6294130366251571,0.003823789737553963,-1.3468693964778446,2.2218699769628634,-0.9743997974145724,-0.9743997974145724,-0.6294130366251571,-1.0476873661448587,-0.9743997974145724,-0.6294130366251571,-0.3045191866867174,-0.897790724987636,-0.9252735632614935,-1.3285475042952732,-0.9743997974145724,-0.9743997974145724,-0.6294130366251571,-0.6294130366251571,-0.6294130366251571,-0.6294130366251571,-0.6294130366251571,-0.23530004168266344,-0.897790724987636,-0.6495059474761324,-0.6294130366251571,-0.6294130366251571,-0.6257180729137162,-0.7027006053554439,-0.6294130366251571,-0.7027006053554439,-0.6294130366251571,0.49484251861844625,-1.065805507666944,1.851154613588324,-0.9743997974145724,-0.2041222396973647,-0.6568958748990147,-0.7027006053554439,-0.7027006053554439,-0.6568958748990147,-0.2536219338652353,-1.3725812160832986,-0.25925762559938487,2.587889599266319,0.14086452109205025,0.21747359351898618,-0.6568958748990147,-0.6568958748990147,-0.7027006053554439,-0.04547215376982944,-0.35401888085458777,-0.7574625312426724,-0.6169305868372218,0.6335694030493111,-0.13120813098187,0.21377862980754486,-0.6568958748990147,-0.6568958748990147,1.2606437780820192,-0.32653604258073027,-0.32653604258073027,-0.3082141503981585,0.789295484190445,-1.250167413199933,4.450134159401754,0.21377862980754486,1.53862323754666,1.9543122633722902,0.9193519810040454,0.1133816828181927,-0.3082141503981585,1.1379772086913011,4.35286496785929,-0.46045830328278403,2.058074040158921,4.450134159401754,-0.13120813098187,1.9543122633722902,2.9690965777365115,4.542116362713125,0.5819259478145252,-0.8305463493124721,3.3474389428843243,1.563411171852441],\"y\":[-0.9324962649046908,0.4860049009602529,0.4860049009602527,0.4860049009602528,-0.5627496704199201,-0.9324962649046908,-1.051450050168558,2.21929727181984,0.03755821987814275,-0.8905333586780116,-0.9324962649046908,-0.9324962649046908,0.486004900960253,1.7068521949639903,1.3371056004792194,-0.9324962649046908,-1.051450050168558,1.3565552180220413,0.03755821987814275,-0.19435753951603277,-0.9324962649046908,-0.9324962649046908,-1.051450050168558,1.3371056004792194,-0.9324962649046908,-1.051450050168558,0.34070807059395347,-0.44379588515605256,0.4073048143629136,-0.5298422464678347,-0.9324962649046908,-0.9324962649046908,-1.051450050168558,-1.051450050168558,-1.051450050168558,-1.051450050168558,-1.051450050168558,0.16939724383517918,-0.44379588515605256,0.4596618558578207,-1.051450050168558,-1.051450050168558,-0.721444446914852,1.218151815215352,-1.051450050168558,1.218151815215352,-1.051450050168558,-0.0654591315425022,0.2840559495346566,2.85726051278921,-0.9324962649046908,-0.35169785243008084,-0.2003493506495917,1.218151815215352,1.218151815215352,-0.2003493506495917,0.7367977101811567,-0.05505252028329217,2.1583500711961534,1.366156481735349,-0.4706516376939481,0.018048742054689863,-0.2003493506495917,-0.2003493506495917,1.218151815215352,0.8246006633427387,1.4292036332051912,1.2999030969627445,1.4231519617910013,1.8141047656683942,-0.19300307593514915,-0.3119568611990164,-0.2003493506495917,-0.2003493506495917,-1.57908631011616,0.5781029336862248,0.5781029336862248,0.010702467340247268,1.2860395911744957,-0.9848533063995978,-0.9895248189635936,-0.3119568611990164,-1.1511602114420314,-1.4869882773901881,-1.1301269215985867,0.38044906182501814,0.010702467340247268,1.4970914091643348,-0.21320532296338143,1.4112778276823608,0.8442499867121179,-0.9895248189635936,-0.19300307593514915,-1.4869882773901881,1.0057926814204756,-0.8820394684293817,0.9018240856959332,1.9490548450561143,1.5539164497728088,-1.9016198668820932],\"type\":\"scatter\"}],                        {\"template\":{\"data\":{\"histogram2dcontour\":[{\"type\":\"histogram2dcontour\",\"colorbar\":{\"outlinewidth\":0,\"ticks\":\"\"},\"colorscale\":[[0.0,\"#0d0887\"],[0.1111111111111111,\"#46039f\"],[0.2222222222222222,\"#7201a8\"],[0.3333333333333333,\"#9c179e\"],[0.4444444444444444,\"#bd3786\"],[0.5555555555555556,\"#d8576b\"],[0.6666666666666666,\"#ed7953\"],[0.7777777777777778,\"#fb9f3a\"],[0.8888888888888888,\"#fdca26\"],[1.0,\"#f0f921\"]]}],\"choropleth\":[{\"type\":\"choropleth\",\"colorbar\":{\"outlinewidth\":0,\"ticks\":\"\"}}],\"histogram2d\":[{\"type\":\"histogram2d\",\"colorbar\":{\"outlinewidth\":0,\"ticks\":\"\"},\"colorscale\":[[0.0,\"#0d0887\"],[0.1111111111111111,\"#46039f\"],[0.2222222222222222,\"#7201a8\"],[0.3333333333333333,\"#9c179e\"],[0.4444444444444444,\"#bd3786\"],[0.5555555555555556,\"#d8576b\"],[0.6666666666666666,\"#ed7953\"],[0.7777777777777778,\"#fb9f3a\"],[0.8888888888888888,\"#fdca26\"],[1.0,\"#f0f921\"]]}],\"heatmap\":[{\"type\":\"heatmap\",\"colorbar\":{\"outlinewidth\":0,\"ticks\":\"\"},\"colorscale\":[[0.0,\"#0d0887\"],[0.1111111111111111,\"#46039f\"],[0.2222222222222222,\"#7201a8\"],[0.3333333333333333,\"#9c179e\"],[0.4444444444444444,\"#bd3786\"],[0.5555555555555556,\"#d8576b\"],[0.6666666666666666,\"#ed7953\"],[0.7777777777777778,\"#fb9f3a\"],[0.8888888888888888,\"#fdca26\"],[1.0,\"#f0f921\"]]}],\"heatmapgl\":[{\"type\":\"heatmapgl\",\"colorbar\":{\"outlinewidth\":0,\"ticks\":\"\"},\"colorscale\":[[0.0,\"#0d0887\"],[0.1111111111111111,\"#46039f\"],[0.2222222222222222,\"#7201a8\"],[0.3333333333333333,\"#9c179e\"],[0.4444444444444444,\"#bd3786\"],[0.5555555555555556,\"#d8576b\"],[0.6666666666666666,\"#ed7953\"],[0.7777777777777778,\"#fb9f3a\"],[0.8888888888888888,\"#fdca26\"],[1.0,\"#f0f921\"]]}],\"contourcarpet\":[{\"type\":\"contourcarpet\",\"colorbar\":{\"outlinewidth\":0,\"ticks\":\"\"}}],\"contour\":[{\"type\":\"contour\",\"colorbar\":{\"outlinewidth\":0,\"ticks\":\"\"},\"colorscale\":[[0.0,\"#0d0887\"],[0.1111111111111111,\"#46039f\"],[0.2222222222222222,\"#7201a8\"],[0.3333333333333333,\"#9c179e\"],[0.4444444444444444,\"#bd3786\"],[0.5555555555555556,\"#d8576b\"],[0.6666666666666666,\"#ed7953\"],[0.7777777777777778,\"#fb9f3a\"],[0.8888888888888888,\"#fdca26\"],[1.0,\"#f0f921\"]]}],\"surface\":[{\"type\":\"surface\",\"colorbar\":{\"outlinewidth\":0,\"ticks\":\"\"},\"colorscale\":[[0.0,\"#0d0887\"],[0.1111111111111111,\"#46039f\"],[0.2222222222222222,\"#7201a8\"],[0.3333333333333333,\"#9c179e\"],[0.4444444444444444,\"#bd3786\"],[0.5555555555555556,\"#d8576b\"],[0.6666666666666666,\"#ed7953\"],[0.7777777777777778,\"#fb9f3a\"],[0.8888888888888888,\"#fdca26\"],[1.0,\"#f0f921\"]]}],\"mesh3d\":[{\"type\":\"mesh3d\",\"colorbar\":{\"outlinewidth\":0,\"ticks\":\"\"}}],\"scatter\":[{\"fillpattern\":{\"fillmode\":\"overlay\",\"size\":10,\"solidity\":0.2},\"type\":\"scatter\"}],\"parcoords\":[{\"type\":\"parcoords\",\"line\":{\"colorbar\":{\"outlinewidth\":0,\"ticks\":\"\"}}}],\"scatterpolargl\":[{\"type\":\"scatterpolargl\",\"marker\":{\"colorbar\":{\"outlinewidth\":0,\"ticks\":\"\"}}}],\"bar\":[{\"error_x\":{\"color\":\"#2a3f5f\"},\"error_y\":{\"color\":\"#2a3f5f\"},\"marker\":{\"line\":{\"color\":\"#E5ECF6\",\"width\":0.5},\"pattern\":{\"fillmode\":\"overlay\",\"size\":10,\"solidity\":0.2}},\"type\":\"bar\"}],\"scattergeo\":[{\"type\":\"scattergeo\",\"marker\":{\"colorbar\":{\"outlinewidth\":0,\"ticks\":\"\"}}}],\"scatterpolar\":[{\"type\":\"scatterpolar\",\"marker\":{\"colorbar\":{\"outlinewidth\":0,\"ticks\":\"\"}}}],\"histogram\":[{\"marker\":{\"pattern\":{\"fillmode\":\"overlay\",\"size\":10,\"solidity\":0.2}},\"type\":\"histogram\"}],\"scattergl\":[{\"type\":\"scattergl\",\"marker\":{\"colorbar\":{\"outlinewidth\":0,\"ticks\":\"\"}}}],\"scatter3d\":[{\"type\":\"scatter3d\",\"line\":{\"colorbar\":{\"outlinewidth\":0,\"ticks\":\"\"}},\"marker\":{\"colorbar\":{\"outlinewidth\":0,\"ticks\":\"\"}}}],\"scattermapbox\":[{\"type\":\"scattermapbox\",\"marker\":{\"colorbar\":{\"outlinewidth\":0,\"ticks\":\"\"}}}],\"scatterternary\":[{\"type\":\"scatterternary\",\"marker\":{\"colorbar\":{\"outlinewidth\":0,\"ticks\":\"\"}}}],\"scattercarpet\":[{\"type\":\"scattercarpet\",\"marker\":{\"colorbar\":{\"outlinewidth\":0,\"ticks\":\"\"}}}],\"carpet\":[{\"aaxis\":{\"endlinecolor\":\"#2a3f5f\",\"gridcolor\":\"white\",\"linecolor\":\"white\",\"minorgridcolor\":\"white\",\"startlinecolor\":\"#2a3f5f\"},\"baxis\":{\"endlinecolor\":\"#2a3f5f\",\"gridcolor\":\"white\",\"linecolor\":\"white\",\"minorgridcolor\":\"white\",\"startlinecolor\":\"#2a3f5f\"},\"type\":\"carpet\"}],\"table\":[{\"cells\":{\"fill\":{\"color\":\"#EBF0F8\"},\"line\":{\"color\":\"white\"}},\"header\":{\"fill\":{\"color\":\"#C8D4E3\"},\"line\":{\"color\":\"white\"}},\"type\":\"table\"}],\"barpolar\":[{\"marker\":{\"line\":{\"color\":\"#E5ECF6\",\"width\":0.5},\"pattern\":{\"fillmode\":\"overlay\",\"size\":10,\"solidity\":0.2}},\"type\":\"barpolar\"}],\"pie\":[{\"automargin\":true,\"type\":\"pie\"}]},\"layout\":{\"autotypenumbers\":\"strict\",\"colorway\":[\"#636efa\",\"#EF553B\",\"#00cc96\",\"#ab63fa\",\"#FFA15A\",\"#19d3f3\",\"#FF6692\",\"#B6E880\",\"#FF97FF\",\"#FECB52\"],\"font\":{\"color\":\"#2a3f5f\"},\"hovermode\":\"closest\",\"hoverlabel\":{\"align\":\"left\"},\"paper_bgcolor\":\"white\",\"plot_bgcolor\":\"#E5ECF6\",\"polar\":{\"bgcolor\":\"#E5ECF6\",\"angularaxis\":{\"gridcolor\":\"white\",\"linecolor\":\"white\",\"ticks\":\"\"},\"radialaxis\":{\"gridcolor\":\"white\",\"linecolor\":\"white\",\"ticks\":\"\"}},\"ternary\":{\"bgcolor\":\"#E5ECF6\",\"aaxis\":{\"gridcolor\":\"white\",\"linecolor\":\"white\",\"ticks\":\"\"},\"baxis\":{\"gridcolor\":\"white\",\"linecolor\":\"white\",\"ticks\":\"\"},\"caxis\":{\"gridcolor\":\"white\",\"linecolor\":\"white\",\"ticks\":\"\"}},\"coloraxis\":{\"colorbar\":{\"outlinewidth\":0,\"ticks\":\"\"}},\"colorscale\":{\"sequential\":[[0.0,\"#0d0887\"],[0.1111111111111111,\"#46039f\"],[0.2222222222222222,\"#7201a8\"],[0.3333333333333333,\"#9c179e\"],[0.4444444444444444,\"#bd3786\"],[0.5555555555555556,\"#d8576b\"],[0.6666666666666666,\"#ed7953\"],[0.7777777777777778,\"#fb9f3a\"],[0.8888888888888888,\"#fdca26\"],[1.0,\"#f0f921\"]],\"sequentialminus\":[[0.0,\"#0d0887\"],[0.1111111111111111,\"#46039f\"],[0.2222222222222222,\"#7201a8\"],[0.3333333333333333,\"#9c179e\"],[0.4444444444444444,\"#bd3786\"],[0.5555555555555556,\"#d8576b\"],[0.6666666666666666,\"#ed7953\"],[0.7777777777777778,\"#fb9f3a\"],[0.8888888888888888,\"#fdca26\"],[1.0,\"#f0f921\"]],\"diverging\":[[0,\"#8e0152\"],[0.1,\"#c51b7d\"],[0.2,\"#de77ae\"],[0.3,\"#f1b6da\"],[0.4,\"#fde0ef\"],[0.5,\"#f7f7f7\"],[0.6,\"#e6f5d0\"],[0.7,\"#b8e186\"],[0.8,\"#7fbc41\"],[0.9,\"#4d9221\"],[1,\"#276419\"]]},\"xaxis\":{\"gridcolor\":\"white\",\"linecolor\":\"white\",\"ticks\":\"\",\"title\":{\"standoff\":15},\"zerolinecolor\":\"white\",\"automargin\":true,\"zerolinewidth\":2},\"yaxis\":{\"gridcolor\":\"white\",\"linecolor\":\"white\",\"ticks\":\"\",\"title\":{\"standoff\":15},\"zerolinecolor\":\"white\",\"automargin\":true,\"zerolinewidth\":2},\"scene\":{\"xaxis\":{\"backgroundcolor\":\"#E5ECF6\",\"gridcolor\":\"white\",\"linecolor\":\"white\",\"showbackground\":true,\"ticks\":\"\",\"zerolinecolor\":\"white\",\"gridwidth\":2},\"yaxis\":{\"backgroundcolor\":\"#E5ECF6\",\"gridcolor\":\"white\",\"linecolor\":\"white\",\"showbackground\":true,\"ticks\":\"\",\"zerolinecolor\":\"white\",\"gridwidth\":2},\"zaxis\":{\"backgroundcolor\":\"#E5ECF6\",\"gridcolor\":\"white\",\"linecolor\":\"white\",\"showbackground\":true,\"ticks\":\"\",\"zerolinecolor\":\"white\",\"gridwidth\":2}},\"shapedefaults\":{\"line\":{\"color\":\"#2a3f5f\"}},\"annotationdefaults\":{\"arrowcolor\":\"#2a3f5f\",\"arrowhead\":0,\"arrowwidth\":1},\"geo\":{\"bgcolor\":\"white\",\"landcolor\":\"#E5ECF6\",\"subunitcolor\":\"white\",\"showland\":true,\"showlakes\":true,\"lakecolor\":\"white\"},\"title\":{\"x\":0.05},\"mapbox\":{\"style\":\"light\"}}}},                        {\"responsive\": true}                    ).then(function(){\n",
       "                            \n",
       "var gd = document.getElementById('e495560c-1147-4f3a-b847-5f0755a4dca6');\n",
       "var x = new MutationObserver(function (mutations, observer) {{\n",
       "        var display = window.getComputedStyle(gd).display;\n",
       "        if (!display || display === 'none') {{\n",
       "            console.log([gd, 'removed!']);\n",
       "            Plotly.purge(gd);\n",
       "            observer.disconnect();\n",
       "        }}\n",
       "}});\n",
       "\n",
       "// Listen for the removal of the full notebook cells\n",
       "var notebookContainer = gd.closest('#notebook-container');\n",
       "if (notebookContainer) {{\n",
       "    x.observe(notebookContainer, {childList: true});\n",
       "}}\n",
       "\n",
       "// Listen for the clearing of the current output cell\n",
       "var outputEl = gd.closest('.output');\n",
       "if (outputEl) {{\n",
       "    x.observe(outputEl, {childList: true});\n",
       "}}\n",
       "\n",
       "                        })                };                });            </script>        </div>"
      ]
     },
     "metadata": {},
     "output_type": "display_data"
    }
   ],
   "source": [
    "data = go.Scatter(x=X[:, 0], y=X[:, 1], mode='markers', hovertext=list(map(lambda x: \"-\".join([str(y) for y in x]), res)))\n",
    "fig = go.Figure(data=data)\n",
    "fig.show()"
   ]
  }
 ],
 "metadata": {
  "kernelspec": {
   "display_name": "base",
   "language": "python",
   "name": "python3"
  },
  "language_info": {
   "codemirror_mode": {
    "name": "ipython",
    "version": 3
   },
   "file_extension": ".py",
   "mimetype": "text/x-python",
   "name": "python",
   "nbconvert_exporter": "python",
   "pygments_lexer": "ipython3",
   "version": "3.9.16"
  },
  "orig_nbformat": 4
 },
 "nbformat": 4,
 "nbformat_minor": 2
}
