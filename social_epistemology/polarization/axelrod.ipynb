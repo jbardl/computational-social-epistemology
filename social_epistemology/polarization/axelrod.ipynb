{
 "cells": [
  {
   "cell_type": "code",
   "execution_count": 1,
   "metadata": {},
   "outputs": [],
   "source": [
    "from tqdm import tqdm\n",
    "from itertools import product\n",
    "\n",
    "import numpy as np\n",
    "import pandas as pd\n",
    "\n",
    "import prince"
   ]
  },
  {
   "cell_type": "markdown",
   "metadata": {},
   "source": [
    "Cómo puedo hacer para encontrar la vecindad de un punto en una matriz?\n",
    "\n",
    "La manera obvia sería iterar.\n",
    "\n",
    "El problema con iterar es que hay que definir muchos casos límite: cuando el punto se encuentra en alguna esquina o en algún lado.\n",
    "\n",
    "Tiene que haber alguna funcionalidad tipo convolución que me permita resolver esto."
   ]
  },
  {
   "cell_type": "code",
   "execution_count": 140,
   "metadata": {},
   "outputs": [],
   "source": [
    "class Neighborhood:\n",
    "\n",
    "    def __init__(self, lattice):\n",
    "        self.lattice = lattice\n",
    "\n",
    "    \n",
    "    def get_idxs(self, r=1):\n",
    "        return NotImplementedError\n",
    "\n",
    "    \n",
    "    def get_values(self, r=1):\n",
    "        return NotImplementedError\n",
    "\n",
    "\n",
    "class MooreNeighborhood(Neighborhood):\n",
    "\n",
    "\n",
    "    def __init__(self, lattice, point):\n",
    "        super().__init__(self, lattice, point)\n",
    "\n",
    "\n",
    "    def get_idxs(self, r=1):\n",
    "        x, y = self.point\n",
    "        x_max, y_max = self.lattice.shape\n",
    "\n",
    "\n",
    "        x_range = np.arange(max(0, x-r), min(x_max, x+r+1))\n",
    "        y_range = np.arange(max(0, y-r), min(y_max, y+r+1))\n",
    "\n",
    "        neighbor_idxs = [neighbor_point for neighbor_point in product(x_range, y_range) \n",
    "                        if neighbor_point != point]\n",
    "\n",
    "        return neighbor_idxs\n",
    "\n",
    "    \n",
    "    def get_values(self, r=1):\n",
    "    \n",
    "        neighbor_idxs = self.get_idxs(lattice, point, r)\n",
    "        return [lattice[idx] for idx in neighbor_idxs]\n",
    "\n",
    "\n",
    "    def random_neighbor(self):\n",
    "        return None\n",
    "\n",
    "\n",
    "class VonNeumannNeighborhood(Neighborhood):\n",
    "\n",
    "\n",
    "    def __init__(self, lattice):\n",
    "        super().__init__(lattice)\n",
    "\n",
    "\n",
    "    def von_neumann_neighborhood_idxs(self, point, r=1):\n",
    "        x, y = point\n",
    "        x_max, y_max = self.lattice.shape\n",
    "        x_max -= 1\n",
    "        y_max -= 1\n",
    "            \n",
    "        neighbors = [neighbor for neighbor in set([\n",
    "            (max(x-1, 0), y),\n",
    "            (min(x+1, x_max), y),\n",
    "            (x, max(y-1, 0)), \n",
    "            (x, min(y+1, y_max))\n",
    "        ]) if neighbor != (x, y)]\n",
    "\n",
    "        return neighbors\n"
   ]
  },
  {
   "cell_type": "code",
   "execution_count": null,
   "metadata": {},
   "outputs": [],
   "source": []
  },
  {
   "cell_type": "code",
   "execution_count": 89,
   "metadata": {},
   "outputs": [],
   "source": [
    "\n",
    "\n",
    "\n",
    "def moore_neighborhood_idxs(lattice, point, r=1):\n",
    "\n",
    "    x, y = point\n",
    "    x_max, y_max = lattice.shape\n",
    "\n",
    "\n",
    "    x_range = np.arange(max(0, x-r), min(x_max, x+r+1))\n",
    "    y_range = np.arange(max(0, y-r), min(y_max, y+r+1))\n",
    "\n",
    "    neighbor_idxs = [neighbor_point for neighbor_point in product(x_range, y_range) \n",
    "                    if neighbor_point != point]\n",
    "\n",
    "    return neighbor_idxs\n",
    "\n",
    "\n",
    "def moore_neighborhood(lattice, point, r=1):\n",
    "    \n",
    "    neighbor_idxs = moore_neighborhood_idxs(lattice, point, r)\n",
    "    return [lattice[idx] for idx in neighbor_idxs]\n",
    "\n",
    "\n",
    "def get_data(lattice, point):\n",
    "    x, y = point\n",
    "    return lattice[:, x, y]"
   ]
  },
  {
   "cell_type": "code",
   "execution_count": 130,
   "metadata": {},
   "outputs": [],
   "source": [
    "F = 5\n",
    "q = 10\n",
    "rounds = 100000\n",
    "lattice = np.random.randint(low=0, high=q-1, size=(F, 10, 10))"
   ]
  },
  {
   "cell_type": "code",
   "execution_count": 131,
   "metadata": {},
   "outputs": [
    {
     "name": "stderr",
     "output_type": "stream",
     "text": [
      "100%|██████████| 100000/100000 [00:16<00:00, 6249.42it/s]\n"
     ]
    }
   ],
   "source": [
    "logs = []\n",
    "\n",
    "for sim_round in tqdm(range(rounds)):\n",
    "\n",
    "    log = [sim_round, 0]\n",
    "    point = np.random.randint(low=0, high=q-1, size=2)\n",
    "\n",
    "    neighbors = von_neumann_neighborhood_idxs(lattice[0], tuple(point))\n",
    "    random_neighbor = neighbors[np.random.choice(len(neighbors))]\n",
    "\n",
    "    data_point = get_data(lattice, tuple(point))\n",
    "    data_neighbor = get_data(lattice, random_neighbor)\n",
    "\n",
    "    coincidences = data_point == data_neighbor\n",
    "    interaction_proba = sum(coincidences) / F\n",
    "\n",
    "    if interaction_proba < 1.0:\n",
    "        do_interact = np.random.choice(a=[True, False], \n",
    "                                       p=[interaction_proba, 1-interaction_proba])\n",
    "\n",
    "        if do_interact:\n",
    "            random_trait_idx = np.random.choice([idx for idx, coincidence \n",
    "                                                in enumerate(coincidences) \n",
    "                                                if not coincidence])\n",
    "            lattice[random_trait_idx, point[0], point[1]] = data_neighbor[random_trait_idx]\n",
    "            log[1] = 1\n",
    "\n",
    "\n",
    "    logs.append(log)\n",
    "\n",
    "\n",
    "agg_data = [\n",
    "    [lattice[:, x, y] \n",
    "     for y in range(lattice.shape[2])]\n",
    "    for x in range(lattice.shape[1])\n",
    "]"
   ]
  },
  {
   "cell_type": "code",
   "execution_count": 132,
   "metadata": {},
   "outputs": [
    {
     "data": {
      "text/html": [
       "<div>\n",
       "<style scoped>\n",
       "    .dataframe tbody tr th:only-of-type {\n",
       "        vertical-align: middle;\n",
       "    }\n",
       "\n",
       "    .dataframe tbody tr th {\n",
       "        vertical-align: top;\n",
       "    }\n",
       "\n",
       "    .dataframe thead th {\n",
       "        text-align: right;\n",
       "    }\n",
       "</style>\n",
       "<table border=\"1\" class=\"dataframe\">\n",
       "  <thead>\n",
       "    <tr style=\"text-align: right;\">\n",
       "      <th></th>\n",
       "      <th>0</th>\n",
       "      <th>1</th>\n",
       "      <th>2</th>\n",
       "      <th>3</th>\n",
       "      <th>4</th>\n",
       "      <th>5</th>\n",
       "      <th>6</th>\n",
       "      <th>7</th>\n",
       "      <th>8</th>\n",
       "      <th>9</th>\n",
       "    </tr>\n",
       "  </thead>\n",
       "  <tbody>\n",
       "    <tr>\n",
       "      <th>0</th>\n",
       "      <td>02246</td>\n",
       "      <td>02246</td>\n",
       "      <td>82246</td>\n",
       "      <td>02246</td>\n",
       "      <td>02246</td>\n",
       "      <td>43276</td>\n",
       "      <td>43276</td>\n",
       "      <td>02274</td>\n",
       "      <td>02274</td>\n",
       "      <td>02574</td>\n",
       "    </tr>\n",
       "    <tr>\n",
       "      <th>1</th>\n",
       "      <td>02246</td>\n",
       "      <td>02246</td>\n",
       "      <td>82246</td>\n",
       "      <td>82246</td>\n",
       "      <td>02246</td>\n",
       "      <td>43246</td>\n",
       "      <td>43246</td>\n",
       "      <td>43526</td>\n",
       "      <td>43526</td>\n",
       "      <td>53228</td>\n",
       "    </tr>\n",
       "    <tr>\n",
       "      <th>2</th>\n",
       "      <td>02246</td>\n",
       "      <td>02246</td>\n",
       "      <td>82246</td>\n",
       "      <td>82246</td>\n",
       "      <td>42246</td>\n",
       "      <td>43246</td>\n",
       "      <td>43246</td>\n",
       "      <td>43276</td>\n",
       "      <td>43526</td>\n",
       "      <td>27867</td>\n",
       "    </tr>\n",
       "    <tr>\n",
       "      <th>3</th>\n",
       "      <td>02246</td>\n",
       "      <td>02246</td>\n",
       "      <td>02246</td>\n",
       "      <td>82240</td>\n",
       "      <td>42240</td>\n",
       "      <td>42240</td>\n",
       "      <td>02206</td>\n",
       "      <td>02240</td>\n",
       "      <td>02230</td>\n",
       "      <td>52836</td>\n",
       "    </tr>\n",
       "    <tr>\n",
       "      <th>4</th>\n",
       "      <td>02286</td>\n",
       "      <td>82286</td>\n",
       "      <td>82246</td>\n",
       "      <td>82240</td>\n",
       "      <td>02286</td>\n",
       "      <td>02286</td>\n",
       "      <td>02206</td>\n",
       "      <td>02200</td>\n",
       "      <td>42200</td>\n",
       "      <td>42210</td>\n",
       "    </tr>\n",
       "    <tr>\n",
       "      <th>5</th>\n",
       "      <td>02286</td>\n",
       "      <td>02246</td>\n",
       "      <td>02286</td>\n",
       "      <td>02286</td>\n",
       "      <td>02286</td>\n",
       "      <td>02286</td>\n",
       "      <td>02286</td>\n",
       "      <td>02200</td>\n",
       "      <td>03702</td>\n",
       "      <td>53702</td>\n",
       "    </tr>\n",
       "    <tr>\n",
       "      <th>6</th>\n",
       "      <td>42246</td>\n",
       "      <td>42246</td>\n",
       "      <td>02280</td>\n",
       "      <td>02280</td>\n",
       "      <td>02286</td>\n",
       "      <td>02280</td>\n",
       "      <td>02287</td>\n",
       "      <td>02287</td>\n",
       "      <td>82237</td>\n",
       "      <td>05072</td>\n",
       "    </tr>\n",
       "    <tr>\n",
       "      <th>7</th>\n",
       "      <td>02246</td>\n",
       "      <td>02246</td>\n",
       "      <td>02286</td>\n",
       "      <td>02280</td>\n",
       "      <td>02286</td>\n",
       "      <td>02280</td>\n",
       "      <td>02280</td>\n",
       "      <td>82237</td>\n",
       "      <td>22237</td>\n",
       "      <td>71663</td>\n",
       "    </tr>\n",
       "    <tr>\n",
       "      <th>8</th>\n",
       "      <td>02246</td>\n",
       "      <td>02246</td>\n",
       "      <td>85686</td>\n",
       "      <td>02286</td>\n",
       "      <td>82286</td>\n",
       "      <td>82286</td>\n",
       "      <td>02286</td>\n",
       "      <td>82286</td>\n",
       "      <td>22237</td>\n",
       "      <td>60076</td>\n",
       "    </tr>\n",
       "    <tr>\n",
       "      <th>9</th>\n",
       "      <td>26862</td>\n",
       "      <td>63216</td>\n",
       "      <td>85686</td>\n",
       "      <td>86107</td>\n",
       "      <td>82667</td>\n",
       "      <td>38575</td>\n",
       "      <td>16556</td>\n",
       "      <td>47012</td>\n",
       "      <td>22187</td>\n",
       "      <td>77105</td>\n",
       "    </tr>\n",
       "  </tbody>\n",
       "</table>\n",
       "</div>"
      ],
      "text/plain": [
       "       0      1      2      3      4      5      6      7      8      9\n",
       "0  02246  02246  82246  02246  02246  43276  43276  02274  02274  02574\n",
       "1  02246  02246  82246  82246  02246  43246  43246  43526  43526  53228\n",
       "2  02246  02246  82246  82246  42246  43246  43246  43276  43526  27867\n",
       "3  02246  02246  02246  82240  42240  42240  02206  02240  02230  52836\n",
       "4  02286  82286  82246  82240  02286  02286  02206  02200  42200  42210\n",
       "5  02286  02246  02286  02286  02286  02286  02286  02200  03702  53702\n",
       "6  42246  42246  02280  02280  02286  02280  02287  02287  82237  05072\n",
       "7  02246  02246  02286  02280  02286  02280  02280  82237  22237  71663\n",
       "8  02246  02246  85686  02286  82286  82286  02286  82286  22237  60076\n",
       "9  26862  63216  85686  86107  82667  38575  16556  47012  22187  77105"
      ]
     },
     "execution_count": 132,
     "metadata": {},
     "output_type": "execute_result"
    }
   ],
   "source": [
    "pd.DataFrame(agg_data).applymap(lambda agent: \"\".join([str(trait) for trait in agent]))"
   ]
  },
  {
   "cell_type": "code",
   "execution_count": 95,
   "metadata": {},
   "outputs": [
    {
     "data": {
      "text/plain": [
       "<Axes: >"
      ]
     },
     "execution_count": 95,
     "metadata": {},
     "output_type": "execute_result"
    },
    {
     "data": {
      "image/png": "[encoded data removed]",
      "text/plain": [
       "<Figure size 640x480 with 1 Axes>"
      ]
     },
     "metadata": {},
     "output_type": "display_data"
    }
   ],
   "source": [
    "df_logs = pd.DataFrame(logs, columns=['round', 'interaction'])\n",
    "df_logs.interaction.cumsum().plot()"
   ]
  },
  {
   "cell_type": "code",
   "execution_count": 96,
   "metadata": {},
   "outputs": [],
   "source": [
    "from sklearn.decomposition import PCA\n",
    "from sklearn.preprocessing import StandardScaler"
   ]
  },
  {
   "cell_type": "markdown",
   "metadata": {},
   "source": [
    "PCA NO. Usar MCA. Se puede importar desde prince"
   ]
  },
  {
   "cell_type": "code",
   "execution_count": 127,
   "metadata": {},
   "outputs": [],
   "source": [
    "agents_list = np.array(list(chain.from_iterable(agg_data)))\n",
    "agents_list_str = list(map(lambda agent: \"\".join([str(trait) for trait in agent]), agents_list))"
   ]
  },
  {
   "cell_type": "code",
   "execution_count": 97,
   "metadata": {},
   "outputs": [],
   "source": [
    "scaler = StandardScaler()\n",
    "pca = PCA(n_components=2, random_state=42)"
   ]
  },
  {
   "cell_type": "code",
   "execution_count": 124,
   "metadata": {},
   "outputs": [],
   "source": [
    "X = scaler.fit_transform(agents_list)\n",
    "X = pca.fit_transform(X)"
   ]
  },
  {
   "cell_type": "code",
   "execution_count": 125,
   "metadata": {},
   "outputs": [],
   "source": [
    "import plotly.graph_objects as go"
   ]
  },
  {
   "cell_type": "code",
   "execution_count": 105,
   "metadata": {},
   "outputs": [],
   "source": [
    "from itertools import chain"
   ]
  },
  {
   "cell_type": "code",
   "execution_count": 139,
   "metadata": {},
   "outputs": [
    {
     "data": {
      "application/vnd.plotly.v1+json": {
       "config": {
        "plotlyServerURL": "https://plot.ly"
       },
       "data": [
        {
         "hovertext": [
          "47677",
          "47677",
          "47677",
          "47677",
          "47657",
          "77657",
          "77657",
          "77657",
          "31144",
          "86115",
          "47677",
          "47677",
          "47677",
          "47677",
          "47657",
          "77657",
          "77657",
          "77657",
          "31144",
          "31144",
          "47677",
          "47677",
          "47677",
          "47677",
          "77657",
          "77657",
          "77657",
          "77657",
          "77667",
          "80232",
          "47677",
          "47677",
          "47677",
          "77677",
          "77667",
          "77667",
          "77657",
          "77667",
          "77667",
          "12776",
          "47677",
          "47677",
          "47677",
          "47677",
          "47667",
          "77667",
          "77662",
          "77662",
          "77662",
          "00327",
          "47677",
          "47677",
          "47677",
          "47677",
          "47667",
          "77677",
          "77662",
          "77662",
          "77662",
          "71732",
          "47677",
          "47677",
          "47677",
          "47677",
          "47677",
          "77667",
          "77667",
          "77667",
          "85461",
          "85461",
          "47677",
          "47677",
          "37677",
          "47677",
          "47677",
          "47677",
          "47667",
          "77667",
          "32833",
          "32833",
          "70368",
          "37677",
          "47677",
          "47677",
          "76184",
          "47677",
          "47667",
          "47667",
          "31351",
          "86510",
          "70368",
          "00808",
          "08513",
          "50552",
          "76184",
          "47648",
          "87370",
          "35367",
          "51355",
          "45215"
         ],
         "mode": "markers",
         "opacity": 0.5,
         "type": "scatter",
         "x": [
          -1.0712472353502718,
          -1.0712472353502716,
          -1.0712472353502709,
          -1.0712472353502709,
          -0.47774648145763926,
          -0.39241259957076086,
          -0.39241259957076086,
          -0.39241259957076086,
          3.5304568646499166,
          3.096819541448116,
          -1.0712472353502709,
          -1.0712472353502709,
          -1.0712472353502709,
          -1.0712472353502709,
          -0.47774648145763887,
          -0.39241259957076086,
          -0.39241259957076086,
          -0.39241259957076086,
          3.5304568646499166,
          3.5304568646499166,
          -1.0712472353502709,
          -1.0712472353502709,
          -1.0712472353502709,
          -1.0712472353502709,
          -0.39241259957076086,
          -0.39241259957076086,
          -0.39241259957076086,
          -0.39241259957076086,
          -0.6891629765170771,
          4.365429100593505,
          -1.0712472353502709,
          -1.0712472353502709,
          -1.0712472353502709,
          -0.9859133534633931,
          -0.6891629765170771,
          -0.6891629765170771,
          -0.39241259957076086,
          -0.6891629765170771,
          -0.6891629765170771,
          -0.0034340739547451546,
          -1.0712472353502709,
          -1.0712472353502709,
          -1.0712472353502709,
          -1.0712472353502709,
          -0.7744968584039549,
          -0.6891629765170771,
          0.4656730002935911,
          0.4656730002935911,
          0.4656730002935911,
          2.966821935127671,
          -1.0712472353502709,
          -1.0712472353502709,
          -1.0712472353502709,
          -1.0712472353502709,
          -0.7744968584039549,
          -0.9859133534633931,
          0.4656730002935911,
          0.4656730002935911,
          0.4656730002935911,
          2.5251328580841585,
          -1.0712472353502709,
          -1.0712472353502709,
          -1.0712472353502709,
          -1.0712472353502709,
          -1.0712472353502709,
          -0.6891629765170771,
          -0.6891629765170771,
          -0.6891629765170771,
          1.8450716754869967,
          1.8450716754869967,
          -1.0712472353502709,
          -1.0712472353502709,
          -1.099691862645897,
          -1.0712472353502709,
          -1.0712472353502709,
          -1.0712472353502709,
          -0.7744968584039549,
          -0.6891629765170771,
          1.620393727271698,
          1.620393727271698,
          1.7479656230496545,
          -1.099691862645897,
          -1.0712472353502709,
          -1.0712472353502709,
          1.222089470890411,
          -1.0712472353502709,
          -0.7744968584039549,
          -0.7744968584039549,
          3.300678979317053,
          2.999797329312888,
          1.7479656230496545,
          1.7645327574757985,
          1.5852809667987817,
          2.7477008231045716,
          1.222089470890411,
          -0.41196329987345637,
          1.5981952830765906,
          0.6300099140725395,
          2.4336994524597704,
          2.9171053640604874
         ],
         "y": [
          0.3827832973190648,
          0.3827832973190648,
          0.38278329731906496,
          0.3827832973190652,
          0.6479896202412851,
          -0.6548490962935497,
          -0.6548490962935497,
          -0.6548490962935497,
          1.1350278870239894,
          -1.2006504893095808,
          0.382783297319065,
          0.382783297319065,
          0.382783297319065,
          0.382783297319065,
          0.6479896202412848,
          -0.6548490962935497,
          -0.6548490962935497,
          -0.6548490962935497,
          1.1350278870239894,
          1.1350278870239894,
          0.382783297319065,
          0.382783297319065,
          0.382783297319065,
          0.382783297319065,
          -0.6548490962935497,
          -0.6548490962935497,
          -0.6548490962935497,
          -0.6548490962935497,
          -0.7874522577546594,
          -1.036190087105534,
          0.382783297319065,
          0.382783297319065,
          0.382783297319065,
          -0.9200554192157695,
          -0.7874522577546594,
          -0.7874522577546594,
          -0.6548490962935497,
          -0.7874522577546594,
          -0.7874522577546594,
          2.3326305456765666,
          0.382783297319065,
          0.382783297319065,
          0.382783297319065,
          0.382783297319065,
          0.515386458780175,
          -0.7874522577546594,
          -1.7034517207032767,
          -1.7034517207032767,
          -1.7034517207032767,
          3.571567646727577,
          0.382783297319065,
          0.382783297319065,
          0.382783297319065,
          0.382783297319065,
          0.515386458780175,
          -0.9200554192157695,
          -1.7034517207032767,
          -1.7034517207032767,
          -1.7034517207032767,
          -0.32637583342451015,
          0.382783297319065,
          0.382783297319065,
          0.382783297319065,
          0.382783297319065,
          0.382783297319065,
          -0.7874522577546594,
          -0.7874522577546594,
          -0.7874522577546594,
          -2.192652292499502,
          -2.192652292499502,
          0.382783297319065,
          0.382783297319065,
          0.8170628694973435,
          0.382783297319065,
          0.382783297319065,
          0.382783297319065,
          0.515386458780175,
          -0.7874522577546594,
          1.5298029013924384,
          1.5298029013924384,
          0.18439788822491368,
          0.8170628694973435,
          0.382783297319065,
          0.382783297319065,
          -1.8777929399487954,
          0.382783297319065,
          0.515386458780175,
          0.515386458780175,
          0.6226621117880261,
          -1.7769758242695646,
          0.18439788822491368,
          4.444566522225312,
          1.948744473959739,
          0.25619790249855573,
          -1.8777929399487954,
          0.963792674292118,
          -2.8914898355135867,
          0.9930263919330711,
          0.48690253779036285,
          0.7704443098837371
         ]
        }
       ],
       "layout": {
        "template": {
         "data": {
          "bar": [
           {
            "error_x": {
             "color": "#2a3f5f"
            },
            "error_y": {
             "color": "#2a3f5f"
            },
            "marker": {
             "line": {
              "color": "#E5ECF6",
              "width": 0.5
             },
             "pattern": {
              "fillmode": "overlay",
              "size": 10,
              "solidity": 0.2
             }
            },
            "type": "bar"
           }
          ],
          "barpolar": [
           {
            "marker": {
             "line": {
              "color": "#E5ECF6",
              "width": 0.5
             },
             "pattern": {
              "fillmode": "overlay",
              "size": 10,
              "solidity": 0.2
             }
            },
            "type": "barpolar"
           }
          ],
          "carpet": [
           {
            "aaxis": {
             "endlinecolor": "#2a3f5f",
             "gridcolor": "white",
             "linecolor": "white",
             "minorgridcolor": "white",
             "startlinecolor": "#2a3f5f"
            },
            "baxis": {
             "endlinecolor": "#2a3f5f",
             "gridcolor": "white",
             "linecolor": "white",
             "minorgridcolor": "white",
             "startlinecolor": "#2a3f5f"
            },
            "type": "carpet"
           }
          ],
          "choropleth": [
           {
            "colorbar": {
             "outlinewidth": 0,
             "ticks": ""
            },
            "type": "choropleth"
           }
          ],
          "contour": [
           {
            "colorbar": {
             "outlinewidth": 0,
             "ticks": ""
            },
            "colorscale": [
             [
              0,
              "#0d0887"
             ],
             [
              0.1111111111111111,
              "#46039f"
             ],
             [
              0.2222222222222222,
              "#7201a8"
             ],
             [
              0.3333333333333333,
              "#9c179e"
             ],
             [
              0.4444444444444444,
              "#bd3786"
             ],
             [
              0.5555555555555556,
              "#d8576b"
             ],
             [
              0.6666666666666666,
              "#ed7953"
             ],
             [
              0.7777777777777778,
              "#fb9f3a"
             ],
             [
              0.8888888888888888,
              "#fdca26"
             ],
             [
              1,
              "#f0f921"
             ]
            ],
            "type": "contour"
           }
          ],
          "contourcarpet": [
           {
            "colorbar": {
             "outlinewidth": 0,
             "ticks": ""
            },
            "type": "contourcarpet"
           }
          ],
          "heatmap": [
           {
            "colorbar": {
             "outlinewidth": 0,
             "ticks": ""
            },
            "colorscale": [
             [
              0,
              "#0d0887"
             ],
             [
              0.1111111111111111,
              "#46039f"
             ],
             [
              0.2222222222222222,
              "#7201a8"
             ],
             [
              0.3333333333333333,
              "#9c179e"
             ],
             [
              0.4444444444444444,
              "#bd3786"
             ],
             [
              0.5555555555555556,
              "#d8576b"
             ],
             [
              0.6666666666666666,
              "#ed7953"
             ],
             [
              0.7777777777777778,
              "#fb9f3a"
             ],
             [
              0.8888888888888888,
              "#fdca26"
             ],
             [
              1,
              "#f0f921"
             ]
            ],
            "type": "heatmap"
           }
          ],
          "heatmapgl": [
           {
            "colorbar": {
             "outlinewidth": 0,
             "ticks": ""
            },
            "colorscale": [
             [
              0,
              "#0d0887"
             ],
             [
              0.1111111111111111,
              "#46039f"
             ],
             [
              0.2222222222222222,
              "#7201a8"
             ],
             [
              0.3333333333333333,
              "#9c179e"
             ],
             [
              0.4444444444444444,
              "#bd3786"
             ],
             [
              0.5555555555555556,
              "#d8576b"
             ],
             [
              0.6666666666666666,
              "#ed7953"
             ],
             [
              0.7777777777777778,
              "#fb9f3a"
             ],
             [
              0.8888888888888888,
              "#fdca26"
             ],
             [
              1,
              "#f0f921"
             ]
            ],
            "type": "heatmapgl"
           }
          ],
          "histogram": [
           {
            "marker": {
             "pattern": {
              "fillmode": "overlay",
              "size": 10,
              "solidity": 0.2
             }
            },
            "type": "histogram"
           }
          ],
          "histogram2d": [
           {
            "colorbar": {
             "outlinewidth": 0,
             "ticks": ""
            },
            "colorscale": [
             [
              0,
              "#0d0887"
             ],
             [
              0.1111111111111111,
              "#46039f"
             ],
             [
              0.2222222222222222,
              "#7201a8"
             ],
             [
              0.3333333333333333,
              "#9c179e"
             ],
             [
              0.4444444444444444,
              "#bd3786"
             ],
             [
              0.5555555555555556,
              "#d8576b"
             ],
             [
              0.6666666666666666,
              "#ed7953"
             ],
             [
              0.7777777777777778,
              "#fb9f3a"
             ],
             [
              0.8888888888888888,
              "#fdca26"
             ],
             [
              1,
              "#f0f921"
             ]
            ],
            "type": "histogram2d"
           }
          ],
          "histogram2dcontour": [
           {
            "colorbar": {
             "outlinewidth": 0,
             "ticks": ""
            },
            "colorscale": [
             [
              0,
              "#0d0887"
             ],
             [
              0.1111111111111111,
              "#46039f"
             ],
             [
              0.2222222222222222,
              "#7201a8"
             ],
             [
              0.3333333333333333,
              "#9c179e"
             ],
             [
              0.4444444444444444,
              "#bd3786"
             ],
             [
              0.5555555555555556,
              "#d8576b"
             ],
             [
              0.6666666666666666,
              "#ed7953"
             ],
             [
              0.7777777777777778,
              "#fb9f3a"
             ],
             [
              0.8888888888888888,
              "#fdca26"
             ],
             [
              1,
              "#f0f921"
             ]
            ],
            "type": "histogram2dcontour"
           }
          ],
          "mesh3d": [
           {
            "colorbar": {
             "outlinewidth": 0,
             "ticks": ""
            },
            "type": "mesh3d"
           }
          ],
          "parcoords": [
           {
            "line": {
             "colorbar": {
              "outlinewidth": 0,
              "ticks": ""
             }
            },
            "type": "parcoords"
           }
          ],
          "pie": [
           {
            "automargin": true,
            "type": "pie"
           }
          ],
          "scatter": [
           {
            "fillpattern": {
             "fillmode": "overlay",
             "size": 10,
             "solidity": 0.2
            },
            "type": "scatter"
           }
          ],
          "scatter3d": [
           {
            "line": {
             "colorbar": {
              "outlinewidth": 0,
              "ticks": ""
             }
            },
            "marker": {
             "colorbar": {
              "outlinewidth": 0,
              "ticks": ""
             }
            },
            "type": "scatter3d"
           }
          ],
          "scattercarpet": [
           {
            "marker": {
             "colorbar": {
              "outlinewidth": 0,
              "ticks": ""
             }
            },
            "type": "scattercarpet"
           }
          ],
          "scattergeo": [
           {
            "marker": {
             "colorbar": {
              "outlinewidth": 0,
              "ticks": ""
             }
            },
            "type": "scattergeo"
           }
          ],
          "scattergl": [
           {
            "marker": {
             "colorbar": {
              "outlinewidth": 0,
              "ticks": ""
             }
            },
            "type": "scattergl"
           }
          ],
          "scattermapbox": [
           {
            "marker": {
             "colorbar": {
              "outlinewidth": 0,
              "ticks": ""
             }
            },
            "type": "scattermapbox"
           }
          ],
          "scatterpolar": [
           {
            "marker": {
             "colorbar": {
              "outlinewidth": 0,
              "ticks": ""
             }
            },
            "type": "scatterpolar"
           }
          ],
          "scatterpolargl": [
           {
            "marker": {
             "colorbar": {
              "outlinewidth": 0,
              "ticks": ""
             }
            },
            "type": "scatterpolargl"
           }
          ],
          "scatterternary": [
           {
            "marker": {
             "colorbar": {
              "outlinewidth": 0,
              "ticks": ""
             }
            },
            "type": "scatterternary"
           }
          ],
          "surface": [
           {
            "colorbar": {
             "outlinewidth": 0,
             "ticks": ""
            },
            "colorscale": [
             [
              0,
              "#0d0887"
             ],
             [
              0.1111111111111111,
              "#46039f"
             ],
             [
              0.2222222222222222,
              "#7201a8"
             ],
             [
              0.3333333333333333,
              "#9c179e"
             ],
             [
              0.4444444444444444,
              "#bd3786"
             ],
             [
              0.5555555555555556,
              "#d8576b"
             ],
             [
              0.6666666666666666,
              "#ed7953"
             ],
             [
              0.7777777777777778,
              "#fb9f3a"
             ],
             [
              0.8888888888888888,
              "#fdca26"
             ],
             [
              1,
              "#f0f921"
             ]
            ],
            "type": "surface"
           }
          ],
          "table": [
           {
            "cells": {
             "fill": {
              "color": "#EBF0F8"
             },
             "line": {
              "color": "white"
             }
            },
            "header": {
             "fill": {
              "color": "#C8D4E3"
             },
             "line": {
              "color": "white"
             }
            },
            "type": "table"
           }
          ]
         },
         "layout": {
          "annotationdefaults": {
           "arrowcolor": "#2a3f5f",
           "arrowhead": 0,
           "arrowwidth": 1
          },
          "autotypenumbers": "strict",
          "coloraxis": {
           "colorbar": {
            "outlinewidth": 0,
            "ticks": ""
           }
          },
          "colorscale": {
           "diverging": [
            [
             0,
             "#8e0152"
            ],
            [
             0.1,
             "#c51b7d"
            ],
            [
             0.2,
             "#de77ae"
            ],
            [
             0.3,
             "#f1b6da"
            ],
            [
             0.4,
             "#fde0ef"
            ],
            [
             0.5,
             "#f7f7f7"
            ],
            [
             0.6,
             "#e6f5d0"
            ],
            [
             0.7,
             "#b8e186"
            ],
            [
             0.8,
             "#7fbc41"
            ],
            [
             0.9,
             "#4d9221"
            ],
            [
             1,
             "#276419"
            ]
           ],
           "sequential": [
            [
             0,
             "#0d0887"
            ],
            [
             0.1111111111111111,
             "#46039f"
            ],
            [
             0.2222222222222222,
             "#7201a8"
            ],
            [
             0.3333333333333333,
             "#9c179e"
            ],
            [
             0.4444444444444444,
             "#bd3786"
            ],
            [
             0.5555555555555556,
             "#d8576b"
            ],
            [
             0.6666666666666666,
             "#ed7953"
            ],
            [
             0.7777777777777778,
             "#fb9f3a"
            ],
            [
             0.8888888888888888,
             "#fdca26"
            ],
            [
             1,
             "#f0f921"
            ]
           ],
           "sequentialminus": [
            [
             0,
             "#0d0887"
            ],
            [
             0.1111111111111111,
             "#46039f"
            ],
            [
             0.2222222222222222,
             "#7201a8"
            ],
            [
             0.3333333333333333,
             "#9c179e"
            ],
            [
             0.4444444444444444,
             "#bd3786"
            ],
            [
             0.5555555555555556,
             "#d8576b"
            ],
            [
             0.6666666666666666,
             "#ed7953"
            ],
            [
             0.7777777777777778,
             "#fb9f3a"
            ],
            [
             0.8888888888888888,
             "#fdca26"
            ],
            [
             1,
             "#f0f921"
            ]
           ]
          },
          "colorway": [
           "#636efa",
           "#EF553B",
           "#00cc96",
           "#ab63fa",
           "#FFA15A",
           "#19d3f3",
           "#FF6692",
           "#B6E880",
           "#FF97FF",
           "#FECB52"
          ],
          "font": {
           "color": "#2a3f5f"
          },
          "geo": {
           "bgcolor": "white",
           "lakecolor": "white",
           "landcolor": "#E5ECF6",
           "showlakes": true,
           "showland": true,
           "subunitcolor": "white"
          },
          "hoverlabel": {
           "align": "left"
          },
          "hovermode": "closest",
          "mapbox": {
           "style": "light"
          },
          "paper_bgcolor": "white",
          "plot_bgcolor": "#E5ECF6",
          "polar": {
           "angularaxis": {
            "gridcolor": "white",
            "linecolor": "white",
            "ticks": ""
           },
           "bgcolor": "#E5ECF6",
           "radialaxis": {
            "gridcolor": "white",
            "linecolor": "white",
            "ticks": ""
           }
          },
          "scene": {
           "xaxis": {
            "backgroundcolor": "#E5ECF6",
            "gridcolor": "white",
            "gridwidth": 2,
            "linecolor": "white",
            "showbackground": true,
            "ticks": "",
            "zerolinecolor": "white"
           },
           "yaxis": {
            "backgroundcolor": "#E5ECF6",
            "gridcolor": "white",
            "gridwidth": 2,
            "linecolor": "white",
            "showbackground": true,
            "ticks": "",
            "zerolinecolor": "white"
           },
           "zaxis": {
            "backgroundcolor": "#E5ECF6",
            "gridcolor": "white",
            "gridwidth": 2,
            "linecolor": "white",
            "showbackground": true,
            "ticks": "",
            "zerolinecolor": "white"
           }
          },
          "shapedefaults": {
           "line": {
            "color": "#2a3f5f"
           }
          },
          "ternary": {
           "aaxis": {
            "gridcolor": "white",
            "linecolor": "white",
            "ticks": ""
           },
           "baxis": {
            "gridcolor": "white",
            "linecolor": "white",
            "ticks": ""
           },
           "bgcolor": "#E5ECF6",
           "caxis": {
            "gridcolor": "white",
            "linecolor": "white",
            "ticks": ""
           }
          },
          "title": {
           "x": 0.05
          },
          "xaxis": {
           "automargin": true,
           "gridcolor": "white",
           "linecolor": "white",
           "ticks": "",
           "title": {
            "standoff": 15
           },
           "zerolinecolor": "white",
           "zerolinewidth": 2
          },
          "yaxis": {
           "automargin": true,
           "gridcolor": "white",
           "linecolor": "white",
           "ticks": "",
           "title": {
            "standoff": 15
           },
           "zerolinecolor": "white",
           "zerolinewidth": 2
          }
         }
        }
       }
      },
      "text/html": [
       "<div>                            <div id=\"5ca8b39c-8e9a-4c95-887d-ae5bebc24303\" class=\"plotly-graph-div\" style=\"height:525px; width:100%;\"></div>            <script type=\"text/javascript\">                require([\"plotly\"], function(Plotly) {                    window.PLOTLYENV=window.PLOTLYENV || {};                                    if (document.getElementById(\"5ca8b39c-8e9a-4c95-887d-ae5bebc24303\")) {                    Plotly.newPlot(                        \"5ca8b39c-8e9a-4c95-887d-ae5bebc24303\",                        [{\"hovertext\":[\"47677\",\"47677\",\"47677\",\"47677\",\"47657\",\"77657\",\"77657\",\"77657\",\"31144\",\"86115\",\"47677\",\"47677\",\"47677\",\"47677\",\"47657\",\"77657\",\"77657\",\"77657\",\"31144\",\"31144\",\"47677\",\"47677\",\"47677\",\"47677\",\"77657\",\"77657\",\"77657\",\"77657\",\"77667\",\"80232\",\"47677\",\"47677\",\"47677\",\"77677\",\"77667\",\"77667\",\"77657\",\"77667\",\"77667\",\"12776\",\"47677\",\"47677\",\"47677\",\"47677\",\"47667\",\"77667\",\"77662\",\"77662\",\"77662\",\"00327\",\"47677\",\"47677\",\"47677\",\"47677\",\"47667\",\"77677\",\"77662\",\"77662\",\"77662\",\"71732\",\"47677\",\"47677\",\"47677\",\"47677\",\"47677\",\"77667\",\"77667\",\"77667\",\"85461\",\"85461\",\"47677\",\"47677\",\"37677\",\"47677\",\"47677\",\"47677\",\"47667\",\"77667\",\"32833\",\"32833\",\"70368\",\"37677\",\"47677\",\"47677\",\"76184\",\"47677\",\"47667\",\"47667\",\"31351\",\"86510\",\"70368\",\"00808\",\"08513\",\"50552\",\"76184\",\"47648\",\"87370\",\"35367\",\"51355\",\"45215\"],\"mode\":\"markers\",\"opacity\":0.5,\"x\":[-1.0712472353502718,-1.0712472353502716,-1.0712472353502709,-1.0712472353502709,-0.47774648145763926,-0.39241259957076086,-0.39241259957076086,-0.39241259957076086,3.5304568646499166,3.096819541448116,-1.0712472353502709,-1.0712472353502709,-1.0712472353502709,-1.0712472353502709,-0.47774648145763887,-0.39241259957076086,-0.39241259957076086,-0.39241259957076086,3.5304568646499166,3.5304568646499166,-1.0712472353502709,-1.0712472353502709,-1.0712472353502709,-1.0712472353502709,-0.39241259957076086,-0.39241259957076086,-0.39241259957076086,-0.39241259957076086,-0.6891629765170771,4.365429100593505,-1.0712472353502709,-1.0712472353502709,-1.0712472353502709,-0.9859133534633931,-0.6891629765170771,-0.6891629765170771,-0.39241259957076086,-0.6891629765170771,-0.6891629765170771,-0.0034340739547451546,-1.0712472353502709,-1.0712472353502709,-1.0712472353502709,-1.0712472353502709,-0.7744968584039549,-0.6891629765170771,0.4656730002935911,0.4656730002935911,0.4656730002935911,2.966821935127671,-1.0712472353502709,-1.0712472353502709,-1.0712472353502709,-1.0712472353502709,-0.7744968584039549,-0.9859133534633931,0.4656730002935911,0.4656730002935911,0.4656730002935911,2.5251328580841585,-1.0712472353502709,-1.0712472353502709,-1.0712472353502709,-1.0712472353502709,-1.0712472353502709,-0.6891629765170771,-0.6891629765170771,-0.6891629765170771,1.8450716754869967,1.8450716754869967,-1.0712472353502709,-1.0712472353502709,-1.099691862645897,-1.0712472353502709,-1.0712472353502709,-1.0712472353502709,-0.7744968584039549,-0.6891629765170771,1.620393727271698,1.620393727271698,1.7479656230496545,-1.099691862645897,-1.0712472353502709,-1.0712472353502709,1.222089470890411,-1.0712472353502709,-0.7744968584039549,-0.7744968584039549,3.300678979317053,2.999797329312888,1.7479656230496545,1.7645327574757985,1.5852809667987817,2.7477008231045716,1.222089470890411,-0.41196329987345637,1.5981952830765906,0.6300099140725395,2.4336994524597704,2.9171053640604874],\"y\":[0.3827832973190648,0.3827832973190648,0.38278329731906496,0.3827832973190652,0.6479896202412851,-0.6548490962935497,-0.6548490962935497,-0.6548490962935497,1.1350278870239894,-1.2006504893095808,0.382783297319065,0.382783297319065,0.382783297319065,0.382783297319065,0.6479896202412848,-0.6548490962935497,-0.6548490962935497,-0.6548490962935497,1.1350278870239894,1.1350278870239894,0.382783297319065,0.382783297319065,0.382783297319065,0.382783297319065,-0.6548490962935497,-0.6548490962935497,-0.6548490962935497,-0.6548490962935497,-0.7874522577546594,-1.036190087105534,0.382783297319065,0.382783297319065,0.382783297319065,-0.9200554192157695,-0.7874522577546594,-0.7874522577546594,-0.6548490962935497,-0.7874522577546594,-0.7874522577546594,2.3326305456765666,0.382783297319065,0.382783297319065,0.382783297319065,0.382783297319065,0.515386458780175,-0.7874522577546594,-1.7034517207032767,-1.7034517207032767,-1.7034517207032767,3.571567646727577,0.382783297319065,0.382783297319065,0.382783297319065,0.382783297319065,0.515386458780175,-0.9200554192157695,-1.7034517207032767,-1.7034517207032767,-1.7034517207032767,-0.32637583342451015,0.382783297319065,0.382783297319065,0.382783297319065,0.382783297319065,0.382783297319065,-0.7874522577546594,-0.7874522577546594,-0.7874522577546594,-2.192652292499502,-2.192652292499502,0.382783297319065,0.382783297319065,0.8170628694973435,0.382783297319065,0.382783297319065,0.382783297319065,0.515386458780175,-0.7874522577546594,1.5298029013924384,1.5298029013924384,0.18439788822491368,0.8170628694973435,0.382783297319065,0.382783297319065,-1.8777929399487954,0.382783297319065,0.515386458780175,0.515386458780175,0.6226621117880261,-1.7769758242695646,0.18439788822491368,4.444566522225312,1.948744473959739,0.25619790249855573,-1.8777929399487954,0.963792674292118,-2.8914898355135867,0.9930263919330711,0.48690253779036285,0.7704443098837371],\"type\":\"scatter\"}],                        {\"template\":{\"data\":{\"histogram2dcontour\":[{\"type\":\"histogram2dcontour\",\"colorbar\":{\"outlinewidth\":0,\"ticks\":\"\"},\"colorscale\":[[0.0,\"#0d0887\"],[0.1111111111111111,\"#46039f\"],[0.2222222222222222,\"#7201a8\"],[0.3333333333333333,\"#9c179e\"],[0.4444444444444444,\"#bd3786\"],[0.5555555555555556,\"#d8576b\"],[0.6666666666666666,\"#ed7953\"],[0.7777777777777778,\"#fb9f3a\"],[0.8888888888888888,\"#fdca26\"],[1.0,\"#f0f921\"]]}],\"choropleth\":[{\"type\":\"choropleth\",\"colorbar\":{\"outlinewidth\":0,\"ticks\":\"\"}}],\"histogram2d\":[{\"type\":\"histogram2d\",\"colorbar\":{\"outlinewidth\":0,\"ticks\":\"\"},\"colorscale\":[[0.0,\"#0d0887\"],[0.1111111111111111,\"#46039f\"],[0.2222222222222222,\"#7201a8\"],[0.3333333333333333,\"#9c179e\"],[0.4444444444444444,\"#bd3786\"],[0.5555555555555556,\"#d8576b\"],[0.6666666666666666,\"#ed7953\"],[0.7777777777777778,\"#fb9f3a\"],[0.8888888888888888,\"#fdca26\"],[1.0,\"#f0f921\"]]}],\"heatmap\":[{\"type\":\"heatmap\",\"colorbar\":{\"outlinewidth\":0,\"ticks\":\"\"},\"colorscale\":[[0.0,\"#0d0887\"],[0.1111111111111111,\"#46039f\"],[0.2222222222222222,\"#7201a8\"],[0.3333333333333333,\"#9c179e\"],[0.4444444444444444,\"#bd3786\"],[0.5555555555555556,\"#d8576b\"],[0.6666666666666666,\"#ed7953\"],[0.7777777777777778,\"#fb9f3a\"],[0.8888888888888888,\"#fdca26\"],[1.0,\"#f0f921\"]]}],\"heatmapgl\":[{\"type\":\"heatmapgl\",\"colorbar\":{\"outlinewidth\":0,\"ticks\":\"\"},\"colorscale\":[[0.0,\"#0d0887\"],[0.1111111111111111,\"#46039f\"],[0.2222222222222222,\"#7201a8\"],[0.3333333333333333,\"#9c179e\"],[0.4444444444444444,\"#bd3786\"],[0.5555555555555556,\"#d8576b\"],[0.6666666666666666,\"#ed7953\"],[0.7777777777777778,\"#fb9f3a\"],[0.8888888888888888,\"#fdca26\"],[1.0,\"#f0f921\"]]}],\"contourcarpet\":[{\"type\":\"contourcarpet\",\"colorbar\":{\"outlinewidth\":0,\"ticks\":\"\"}}],\"contour\":[{\"type\":\"contour\",\"colorbar\":{\"outlinewidth\":0,\"ticks\":\"\"},\"colorscale\":[[0.0,\"#0d0887\"],[0.1111111111111111,\"#46039f\"],[0.2222222222222222,\"#7201a8\"],[0.3333333333333333,\"#9c179e\"],[0.4444444444444444,\"#bd3786\"],[0.5555555555555556,\"#d8576b\"],[0.6666666666666666,\"#ed7953\"],[0.7777777777777778,\"#fb9f3a\"],[0.8888888888888888,\"#fdca26\"],[1.0,\"#f0f921\"]]}],\"surface\":[{\"type\":\"surface\",\"colorbar\":{\"outlinewidth\":0,\"ticks\":\"\"},\"colorscale\":[[0.0,\"#0d0887\"],[0.1111111111111111,\"#46039f\"],[0.2222222222222222,\"#7201a8\"],[0.3333333333333333,\"#9c179e\"],[0.4444444444444444,\"#bd3786\"],[0.5555555555555556,\"#d8576b\"],[0.6666666666666666,\"#ed7953\"],[0.7777777777777778,\"#fb9f3a\"],[0.8888888888888888,\"#fdca26\"],[1.0,\"#f0f921\"]]}],\"mesh3d\":[{\"type\":\"mesh3d\",\"colorbar\":{\"outlinewidth\":0,\"ticks\":\"\"}}],\"scatter\":[{\"fillpattern\":{\"fillmode\":\"overlay\",\"size\":10,\"solidity\":0.2},\"type\":\"scatter\"}],\"parcoords\":[{\"type\":\"parcoords\",\"line\":{\"colorbar\":{\"outlinewidth\":0,\"ticks\":\"\"}}}],\"scatterpolargl\":[{\"type\":\"scatterpolargl\",\"marker\":{\"colorbar\":{\"outlinewidth\":0,\"ticks\":\"\"}}}],\"bar\":[{\"error_x\":{\"color\":\"#2a3f5f\"},\"error_y\":{\"color\":\"#2a3f5f\"},\"marker\":{\"line\":{\"color\":\"#E5ECF6\",\"width\":0.5},\"pattern\":{\"fillmode\":\"overlay\",\"size\":10,\"solidity\":0.2}},\"type\":\"bar\"}],\"scattergeo\":[{\"type\":\"scattergeo\",\"marker\":{\"colorbar\":{\"outlinewidth\":0,\"ticks\":\"\"}}}],\"scatterpolar\":[{\"type\":\"scatterpolar\",\"marker\":{\"colorbar\":{\"outlinewidth\":0,\"ticks\":\"\"}}}],\"histogram\":[{\"marker\":{\"pattern\":{\"fillmode\":\"overlay\",\"size\":10,\"solidity\":0.2}},\"type\":\"histogram\"}],\"scattergl\":[{\"type\":\"scattergl\",\"marker\":{\"colorbar\":{\"outlinewidth\":0,\"ticks\":\"\"}}}],\"scatter3d\":[{\"type\":\"scatter3d\",\"line\":{\"colorbar\":{\"outlinewidth\":0,\"ticks\":\"\"}},\"marker\":{\"colorbar\":{\"outlinewidth\":0,\"ticks\":\"\"}}}],\"scattermapbox\":[{\"type\":\"scattermapbox\",\"marker\":{\"colorbar\":{\"outlinewidth\":0,\"ticks\":\"\"}}}],\"scatterternary\":[{\"type\":\"scatterternary\",\"marker\":{\"colorbar\":{\"outlinewidth\":0,\"ticks\":\"\"}}}],\"scattercarpet\":[{\"type\":\"scattercarpet\",\"marker\":{\"colorbar\":{\"outlinewidth\":0,\"ticks\":\"\"}}}],\"carpet\":[{\"aaxis\":{\"endlinecolor\":\"#2a3f5f\",\"gridcolor\":\"white\",\"linecolor\":\"white\",\"minorgridcolor\":\"white\",\"startlinecolor\":\"#2a3f5f\"},\"baxis\":{\"endlinecolor\":\"#2a3f5f\",\"gridcolor\":\"white\",\"linecolor\":\"white\",\"minorgridcolor\":\"white\",\"startlinecolor\":\"#2a3f5f\"},\"type\":\"carpet\"}],\"table\":[{\"cells\":{\"fill\":{\"color\":\"#EBF0F8\"},\"line\":{\"color\":\"white\"}},\"header\":{\"fill\":{\"color\":\"#C8D4E3\"},\"line\":{\"color\":\"white\"}},\"type\":\"table\"}],\"barpolar\":[{\"marker\":{\"line\":{\"color\":\"#E5ECF6\",\"width\":0.5},\"pattern\":{\"fillmode\":\"overlay\",\"size\":10,\"solidity\":0.2}},\"type\":\"barpolar\"}],\"pie\":[{\"automargin\":true,\"type\":\"pie\"}]},\"layout\":{\"autotypenumbers\":\"strict\",\"colorway\":[\"#636efa\",\"#EF553B\",\"#00cc96\",\"#ab63fa\",\"#FFA15A\",\"#19d3f3\",\"#FF6692\",\"#B6E880\",\"#FF97FF\",\"#FECB52\"],\"font\":{\"color\":\"#2a3f5f\"},\"hovermode\":\"closest\",\"hoverlabel\":{\"align\":\"left\"},\"paper_bgcolor\":\"white\",\"plot_bgcolor\":\"#E5ECF6\",\"polar\":{\"bgcolor\":\"#E5ECF6\",\"angularaxis\":{\"gridcolor\":\"white\",\"linecolor\":\"white\",\"ticks\":\"\"},\"radialaxis\":{\"gridcolor\":\"white\",\"linecolor\":\"white\",\"ticks\":\"\"}},\"ternary\":{\"bgcolor\":\"#E5ECF6\",\"aaxis\":{\"gridcolor\":\"white\",\"linecolor\":\"white\",\"ticks\":\"\"},\"baxis\":{\"gridcolor\":\"white\",\"linecolor\":\"white\",\"ticks\":\"\"},\"caxis\":{\"gridcolor\":\"white\",\"linecolor\":\"white\",\"ticks\":\"\"}},\"coloraxis\":{\"colorbar\":{\"outlinewidth\":0,\"ticks\":\"\"}},\"colorscale\":{\"sequential\":[[0.0,\"#0d0887\"],[0.1111111111111111,\"#46039f\"],[0.2222222222222222,\"#7201a8\"],[0.3333333333333333,\"#9c179e\"],[0.4444444444444444,\"#bd3786\"],[0.5555555555555556,\"#d8576b\"],[0.6666666666666666,\"#ed7953\"],[0.7777777777777778,\"#fb9f3a\"],[0.8888888888888888,\"#fdca26\"],[1.0,\"#f0f921\"]],\"sequentialminus\":[[0.0,\"#0d0887\"],[0.1111111111111111,\"#46039f\"],[0.2222222222222222,\"#7201a8\"],[0.3333333333333333,\"#9c179e\"],[0.4444444444444444,\"#bd3786\"],[0.5555555555555556,\"#d8576b\"],[0.6666666666666666,\"#ed7953\"],[0.7777777777777778,\"#fb9f3a\"],[0.8888888888888888,\"#fdca26\"],[1.0,\"#f0f921\"]],\"diverging\":[[0,\"#8e0152\"],[0.1,\"#c51b7d\"],[0.2,\"#de77ae\"],[0.3,\"#f1b6da\"],[0.4,\"#fde0ef\"],[0.5,\"#f7f7f7\"],[0.6,\"#e6f5d0\"],[0.7,\"#b8e186\"],[0.8,\"#7fbc41\"],[0.9,\"#4d9221\"],[1,\"#276419\"]]},\"xaxis\":{\"gridcolor\":\"white\",\"linecolor\":\"white\",\"ticks\":\"\",\"title\":{\"standoff\":15},\"zerolinecolor\":\"white\",\"automargin\":true,\"zerolinewidth\":2},\"yaxis\":{\"gridcolor\":\"white\",\"linecolor\":\"white\",\"ticks\":\"\",\"title\":{\"standoff\":15},\"zerolinecolor\":\"white\",\"automargin\":true,\"zerolinewidth\":2},\"scene\":{\"xaxis\":{\"backgroundcolor\":\"#E5ECF6\",\"gridcolor\":\"white\",\"linecolor\":\"white\",\"showbackground\":true,\"ticks\":\"\",\"zerolinecolor\":\"white\",\"gridwidth\":2},\"yaxis\":{\"backgroundcolor\":\"#E5ECF6\",\"gridcolor\":\"white\",\"linecolor\":\"white\",\"showbackground\":true,\"ticks\":\"\",\"zerolinecolor\":\"white\",\"gridwidth\":2},\"zaxis\":{\"backgroundcolor\":\"#E5ECF6\",\"gridcolor\":\"white\",\"linecolor\":\"white\",\"showbackground\":true,\"ticks\":\"\",\"zerolinecolor\":\"white\",\"gridwidth\":2}},\"shapedefaults\":{\"line\":{\"color\":\"#2a3f5f\"}},\"annotationdefaults\":{\"arrowcolor\":\"#2a3f5f\",\"arrowhead\":0,\"arrowwidth\":1},\"geo\":{\"bgcolor\":\"white\",\"landcolor\":\"#E5ECF6\",\"subunitcolor\":\"white\",\"showland\":true,\"showlakes\":true,\"lakecolor\":\"white\"},\"title\":{\"x\":0.05},\"mapbox\":{\"style\":\"light\"}}}},                        {\"responsive\": true}                    ).then(function(){\n",
       "                            \n",
       "var gd = document.getElementById('5ca8b39c-8e9a-4c95-887d-ae5bebc24303');\n",
       "var x = new MutationObserver(function (mutations, observer) {{\n",
       "        var display = window.getComputedStyle(gd).display;\n",
       "        if (!display || display === 'none') {{\n",
       "            console.log([gd, 'removed!']);\n",
       "            Plotly.purge(gd);\n",
       "            observer.disconnect();\n",
       "        }}\n",
       "}});\n",
       "\n",
       "// Listen for the removal of the full notebook cells\n",
       "var notebookContainer = gd.closest('#notebook-container');\n",
       "if (notebookContainer) {{\n",
       "    x.observe(notebookContainer, {childList: true});\n",
       "}}\n",
       "\n",
       "// Listen for the clearing of the current output cell\n",
       "var outputEl = gd.closest('.output');\n",
       "if (outputEl) {{\n",
       "    x.observe(outputEl, {childList: true});\n",
       "}}\n",
       "\n",
       "                        })                };                });            </script>        </div>"
      ]
     },
     "metadata": {},
     "output_type": "display_data"
    }
   ],
   "source": [
    "data = go.Scatter(x=X[:, 0], y=X[:, 1], mode='markers', hovertext=agents_list_str, opacity=.5)\n",
    "fig = go.Figure(data=data)\n",
    "fig.show()"
   ]
  }
 ],
 "metadata": {
  "kernelspec": {
   "display_name": "base",
   "language": "python",
   "name": "python3"
  },
  "language_info": {
   "codemirror_mode": {
    "name": "ipython",
    "version": 3
   },
   "file_extension": ".py",
   "mimetype": "text/x-python",
   "name": "python",
   "nbconvert_exporter": "python",
   "pygments_lexer": "ipython3",
   "version": "3.9.16"
  },
  "orig_nbformat": 4
 },
 "nbformat": 4,
 "nbformat_minor": 2
}
